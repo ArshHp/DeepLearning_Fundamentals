{
 "cells": [
  {
   "cell_type": "markdown",
   "metadata": {},
   "source": [
    "# How to train a Perceptron"
   ]
  },
  {
   "cell_type": "markdown",
   "metadata": {},
   "source": [
    "Perceptron is a fundamental building block for neural networks. Let us try to\n",
    "train a single perceptron. Consider the data given in the following table. As one\n",
    "can see, it has two attributes x1,x2 and a class label (either 0 or 1).\n",
    "1. Implement the perceptron training rule and get the appropriate parameters for\n",
    "a single perceptron.\n",
    "2. Plot the data points and the obtained decision boundary.\n",
    "3. Also draw the schematic diagram of the trained perceptron with learned\n",
    "weights. You can draw this on paper and attach a photo."
   ]
  },
  {
   "cell_type": "code",
   "execution_count": 1,
   "metadata": {},
   "outputs": [],
   "source": [
    "#import the required libraries \n",
    "import numpy as np   #For numerical operations \n",
    "import pandas as pd  #For dataframe handling\n",
    "\n",
    "\n",
    "import matplotlib.pyplot as plt #Data Visualization\n",
    "%matplotlib inline\n",
    "\n",
    "#library to split the data into test & train\n",
    "from sklearn.model_selection import train_test_split"
   ]
  },
  {
   "cell_type": "code",
   "execution_count": 2,
   "metadata": {},
   "outputs": [
    {
     "data": {
      "text/html": [
       "<div>\n",
       "<style scoped>\n",
       "    .dataframe tbody tr th:only-of-type {\n",
       "        vertical-align: middle;\n",
       "    }\n",
       "\n",
       "    .dataframe tbody tr th {\n",
       "        vertical-align: top;\n",
       "    }\n",
       "\n",
       "    .dataframe thead th {\n",
       "        text-align: right;\n",
       "    }\n",
       "</style>\n",
       "<table border=\"1\" class=\"dataframe\">\n",
       "  <thead>\n",
       "    <tr style=\"text-align: right;\">\n",
       "      <th></th>\n",
       "      <th>X1</th>\n",
       "      <th>X2</th>\n",
       "      <th>Y</th>\n",
       "    </tr>\n",
       "  </thead>\n",
       "  <tbody>\n",
       "    <tr>\n",
       "      <td>0</td>\n",
       "      <td>2</td>\n",
       "      <td>3</td>\n",
       "      <td>0</td>\n",
       "    </tr>\n",
       "    <tr>\n",
       "      <td>1</td>\n",
       "      <td>4</td>\n",
       "      <td>5</td>\n",
       "      <td>0</td>\n",
       "    </tr>\n",
       "    <tr>\n",
       "      <td>2</td>\n",
       "      <td>11</td>\n",
       "      <td>11</td>\n",
       "      <td>1</td>\n",
       "    </tr>\n",
       "    <tr>\n",
       "      <td>3</td>\n",
       "      <td>4</td>\n",
       "      <td>11</td>\n",
       "      <td>1</td>\n",
       "    </tr>\n",
       "    <tr>\n",
       "      <td>4</td>\n",
       "      <td>12</td>\n",
       "      <td>5</td>\n",
       "      <td>0</td>\n",
       "    </tr>\n",
       "  </tbody>\n",
       "</table>\n",
       "</div>"
      ],
      "text/plain": [
       "   X1  X2  Y\n",
       "0   2   3  0\n",
       "1   4   5  0\n",
       "2  11  11  1\n",
       "3   4  11  1\n",
       "4  12   5  0"
      ]
     },
     "execution_count": 2,
     "metadata": {},
     "output_type": "execute_result"
    }
   ],
   "source": [
    "#Read the data from PDF image into dataframe \n",
    "#Given image has X1, X2 dataset. Output class given as Y\n",
    "\n",
    "d = {'X1': [2,4,11,4,12,5,6,6,2,4,13,1,6,10,8,2], 'X2': [3,5,11,11,5,2,1,3,10,7,8,6,9,12,3,8],\n",
    "     'Y':[0,0,1,1,0,0,0,0,1,1,0,1,1,1,0,1]}\n",
    "\n",
    "#Get the dataset into dataframe\n",
    "df = pd.DataFrame(data=d)\n",
    "\n",
    "#Get top 5 sample rows\n",
    "df.head()"
   ]
  },
  {
   "cell_type": "code",
   "execution_count": 3,
   "metadata": {},
   "outputs": [],
   "source": [
    "#Get the input dataset into X\n",
    "X = df.iloc[:, :2] #Excluding 2nd col\n",
    "\n",
    "#Get the output dataset into Y\n",
    "Y=  df.iloc[:,2] #Include only 2nd col\n"
   ]
  },
  {
   "cell_type": "code",
   "execution_count": 4,
   "metadata": {},
   "outputs": [],
   "source": [
    "#Define the activation function\n",
    "def activation_func(value):    \n",
    "    return (1/(1+np.exp(-value))) #Sigmoid\n",
    "            \n",
    "#Define the function to train the perceptron \n",
    "#Input :\n",
    "    #Input dataset : in_data\n",
    "    #Output Labels : labels\n",
    "    #Learning Rate : alpha\n",
    "    #Initialized Weights: weights\n",
    "def perceptron_train(in_data,labels,alpha,weights,bias):\n",
    "    X=np.array(in_data) #Get into data into X array\n",
    "    y=np.array(labels)  #Get labels into y array\n",
    "    original=weights #Get the copy of original weights \n",
    "    for key in range(X.shape[0]): #Traverse the into dataset \n",
    "        yn=0 #Initialize observed value as 0\n",
    "        a=activation_func(np.matmul(np.transpose(weights),X[key])+bias) #call activation function on transpose of weights & input training data\n",
    "        if a > 0.5: #Check output of activation function with output as 1\n",
    "            yn=1 #If output is greater than threshold, assign observed values as 1\n",
    "        if (yn != y[key]):\n",
    "            #print (\"Updating Weights for misclassified data\")\n",
    "            weights=weights+alpha*(yn-y[key])*X[key] #updates the new weights with alpha as learning rate , y[key]: Actual, yn:Observed : X[key]: Actual \n",
    "            bias = bias + alpha * (yn-y[key])\n",
    "            #print('Iteration Weights:'+str(key)+': '+str(weights)) #Print the iteration number and the new weights\n",
    "            #print('Iteration Bias:'+str(key)+': '+str(bias)) #Print the iteration number and the new weights\n",
    "    diff = weights-original\n",
    "    #print('Difference: '+str(diff)) #After complete loop, get the difference between initialized and new weights\n",
    "    return weights,bias #Return the new weights "
   ]
  },
  {
   "cell_type": "code",
   "execution_count": 5,
   "metadata": {},
   "outputs": [
    {
     "name": "stdout",
     "output_type": "stream",
     "text": [
      "Calculated Weights from single perceptron: \n",
      "Bias     :  1.704\n",
      "Weight 1 :  0.328\n",
      "Weight 2 :  0.515\n"
     ]
    }
   ],
   "source": [
    "#Main function to train the perceptron \n",
    "import decimal\n",
    "alpha=0.0005 # Learning rate \n",
    "num_epochs = 1 #Number of Epochs \n",
    "weights=np.array([0.3, 0.5]) #Initialized weights\n",
    "bias = 1.7 #Initialized Bias\n",
    "for i in range (num_epochs):\n",
    "    weights,bias=perceptron_train(X,Y,alpha,weights,bias) #Calling training function to get new updated weights & bias\n",
    " #Print the new weights \n",
    "print (\"Calculated Weights from single perceptron: \")\n",
    "print (\"Bias     : \", round(bias,3)) #Bias with roundoff to 3 decimal digits \n",
    "print (\"Weight 1 : \", round(weights[0],3)) #First weight with roundoff to 3 decimal digits \n",
    "print (\"Weight 2 : \", round(weights[1],3)) #Second weight with roundoff to 3 decimal digits "
   ]
  },
  {
   "cell_type": "code",
   "execution_count": 6,
   "metadata": {},
   "outputs": [
    {
     "data": {
      "image/png": "[encoded data removed]",
      "text/plain": [
       "<Figure size 432x288 with 1 Axes>"
      ]
     },
     "metadata": {
      "needs_background": "light"
     },
     "output_type": "display_data"
    }
   ],
   "source": [
    "#Plot the decision boundary \n",
    "plt.figure(figsize=(6,4)) #Define the size of the visualization window\n",
    "plt.grid(True) #Define the grid shape\n",
    "plt.xlabel(\"X1\") #Title for X axis\n",
    "plt.ylabel(\"X2\") #Title for Y axis\n",
    "\n",
    "plt.title(\"Single Perceptron Visualization\") #Visualization title\n",
    "colors = np.where(df.Y > 0, 'r', 'k') #define the color set based on Y column , red if > 0 else black\n",
    "lo = plt.Line2D(range(10), range(10), marker='o', color='r') #define the legends for red color\n",
    "ll = plt.Line2D(range(10), range(10), marker='o', color='k') #define the legend for black color\n",
    "plt.scatter(x=df.X1, y=df.X2,s=120,c=colors) #plot the scatter plot for X1 & X2\n",
    "for i in np.linspace(np.amin(X),np.amax(X)): #loop thru input dataset for plotting decision boundary \n",
    "    slope = (bias/weights[1])/(bias/weights[0])  #calculate the slope using calculated weights & bias\n",
    "    intercept = bias/weights[1] #calculate intercept based on the weights & bias\n",
    "    y = (slope*i) + intercept #get the points using y = mx +c where m is the slope, c as intercept\n",
    "    plt.plot(i, y,'bo') #plot the points into the defined window\n",
    "    #Set the legends for class 0 & class 1\n",
    "    plt.legend((lo, ll),\n",
    "           ('Class 1', 'Class 0'),\n",
    "           scatterpoints=1,\n",
    "           loc='lower right',\n",
    "           ncol=3,\n",
    "           fontsize=8)\n",
    "plt.show() #show the plot"
   ]
  },
  {
   "cell_type": "code",
   "execution_count": null,
   "metadata": {},
   "outputs": [],
   "source": []
  }
 ],
 "metadata": {
  "kernelspec": {
   "display_name": "Python 3",
   "language": "python",
   "name": "python3"
  },
  "language_info": {
   "codemirror_mode": {
    "name": "ipython",
    "version": 3
   },
   "file_extension": ".py",
   "mimetype": "text/x-python",
   "name": "python",
   "nbconvert_exporter": "python",
   "pygments_lexer": "ipython3",
   "version": "3.7.4"
  }
 },
 "nbformat": 4,
 "nbformat_minor": 2
}
