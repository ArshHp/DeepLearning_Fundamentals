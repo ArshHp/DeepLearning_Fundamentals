{
  "nbformat": 4,
  "nbformat_minor": 0,
  "metadata": {
    "colab": {
      "name": "Copy of Keras_ML_APM_COSO_2.0.ipynb",
      "provenance": [],
      "include_colab_link": true
    },
    "kernelspec": {
      "display_name": "Python 3",
      "language": "python",
      "name": "python3"
    },
    "language_info": {
      "codemirror_mode": {
        "name": "ipython",
        "version": 3
      },
      "file_extension": ".py",
      "mimetype": "text/x-python",
      "name": "python",
      "nbconvert_exporter": "python",
      "pygments_lexer": "ipython3",
      "version": "3.7.4"
    },
    "accelerator": "GPU"
  },
  "cells": [
    {
      "cell_type": "markdown",
      "metadata": {
        "id": "view-in-github",
        "colab_type": "text"
      },
      "source": [
        "<a href=\"https://colab.research.google.com/github/ArshHp/DeepLearning_Fundamentals/blob/main/Copy_of_Keras_ML_APM_COSO_2_0.ipynb\" target=\"_parent\"><img src=\"https://colab.research.google.com/assets/colab-badge.svg\" alt=\"Open In Colab\"/></a>"
      ]
    },
    {
      "cell_type": "code",
      "metadata": {
        "colab": {
          "base_uri": "https://localhost:8080/"
        },
        "id": "ng-Y2AIiRahh",
        "outputId": "ded33b43-566f-474c-a017-5d70d64d6e4d"
      },
      "source": [
        "from google.colab import drive\n",
        "drive.mount('/content/drive')"
      ],
      "execution_count": null,
      "outputs": [
        {
          "output_type": "stream",
          "name": "stdout",
          "text": [
            "Drive already mounted at /content/drive; to attempt to forcibly remount, call drive.mount(\"/content/drive\", force_remount=True).\n"
          ]
        }
      ]
    },
    {
      "cell_type": "code",
      "metadata": {
        "colab": {
          "base_uri": "https://localhost:8080/"
        },
        "id": "1a6VmhK3Rahk",
        "outputId": "f390994c-3c9d-4f58-dfd9-55f0e46a266c"
      },
      "source": [
        "pip install vertica-python"
      ],
      "execution_count": null,
      "outputs": [
        {
          "output_type": "stream",
          "name": "stdout",
          "text": [
            "Requirement already satisfied: vertica-python in /usr/local/lib/python3.7/dist-packages (1.0.2)\n",
            "Requirement already satisfied: python-dateutil>=1.5 in /usr/local/lib/python3.7/dist-packages (from vertica-python) (2.8.2)\n",
            "Requirement already satisfied: six>=1.10.0 in /usr/local/lib/python3.7/dist-packages (from vertica-python) (1.15.0)\n"
          ]
        }
      ]
    },
    {
      "cell_type": "code",
      "metadata": {
        "colab": {
          "base_uri": "https://localhost:8080/"
        },
        "id": "YFlPofSFRaho",
        "outputId": "c7376596-7444-43b1-8646-9e34a7a2349c"
      },
      "source": [
        "pip install pyodbc"
      ],
      "execution_count": null,
      "outputs": [
        {
          "output_type": "stream",
          "name": "stdout",
          "text": [
            "Requirement already satisfied: pyodbc in /usr/local/lib/python3.7/dist-packages (4.0.32)\n"
          ]
        }
      ]
    },
    {
      "cell_type": "code",
      "metadata": {
        "id": "tFnrFUQTRahq"
      },
      "source": [
        "import pyodbc\n",
        "import csv\n",
        "import sys\n",
        "import pandas as pd\n",
        "import numpy as np\n",
        "from sklearn.metrics import mean_absolute_error\n",
        "from sklearn.metrics import r2_score \n",
        "from sklearn.metrics import mean_squared_error    # For mean squared error evaluation\n",
        "import math                                       # For doing maths calulations\n",
        "from matplotlib import pyplot\n",
        "from pandas import read_csv\n",
        "import time\n",
        "import vertica_python\n",
        "from scipy import stats\n",
        "import seaborn as sns\n",
        "from datetime import date, timedelta\n",
        "import fbprophet\n",
        "from pandas import read_csv\n",
        "from pandas import to_datetime\n",
        "from fbprophet import Prophet\n",
        "from pandas import DataFrame\n",
        "import pandas as pd\n",
        "from datetime import datetime\n",
        "import pickle #Importing pickel libraries to save the model for future use\n",
        "from sklearn.model_selection import train_test_split # Import train_test_split function\n",
        "import tensorflow as tf\n",
        "import keras\n",
        "from keras.models import Sequential\n",
        "from keras.layers import LSTM\n",
        "from keras.layers import Dense\n",
        "from keras.layers import TimeDistributed\n",
        "from keras.layers import Bidirectional\n",
        "from sklearn.preprocessing import MinMaxScaler\n",
        "from keras.models import load_model"
      ],
      "execution_count": null,
      "outputs": []
    },
    {
      "cell_type": "code",
      "metadata": {
        "colab": {
          "base_uri": "https://localhost:8080/",
          "height": 392
        },
        "id": "ZePo4jSURah2",
        "outputId": "d5f901cd-c0c5-420d-999a-f6916102ac57"
      },
      "source": [
        "#df = pd.read_csv('bpm_data.csv')\n",
        "#Read the dataset from GDrive\n",
        "Inputfile = 'drive/My Drive/ML_files/bpm_data.csv'\n",
        "df = pd.read_csv(Inputfile)\n",
        "df.head()\n"
      ],
      "execution_count": null,
      "outputs": [
        {
          "output_type": "execute_result",
          "data": {
            "text/html": [
              "<div>\n",
              "<style scoped>\n",
              "    .dataframe tbody tr th:only-of-type {\n",
              "        vertical-align: middle;\n",
              "    }\n",
              "\n",
              "    .dataframe tbody tr th {\n",
              "        vertical-align: top;\n",
              "    }\n",
              "\n",
              "    .dataframe thead th {\n",
              "        text-align: right;\n",
              "    }\n",
              "</style>\n",
              "<table border=\"1\" class=\"dataframe\">\n",
              "  <thead>\n",
              "    <tr style=\"text-align: right;\">\n",
              "      <th></th>\n",
              "      <th>agent_id</th>\n",
              "      <th>agent_name</th>\n",
              "      <th>application_cmdb_global_id</th>\n",
              "      <th>application_cmdb_id</th>\n",
              "      <th>application_name</th>\n",
              "      <th>application_owner</th>\n",
              "      <th>client_device_id</th>\n",
              "      <th>client_device_name</th>\n",
              "      <th>collection_data_flow</th>\n",
              "      <th>collection_policy_name</th>\n",
              "      <th>collection_type</th>\n",
              "      <th>customer_id</th>\n",
              "      <th>customer_name</th>\n",
              "      <th>endusergroup_cmdb_id</th>\n",
              "      <th>endusergroup_name</th>\n",
              "      <th>location_cmdb_global_id</th>\n",
              "      <th>location_cmdb_id</th>\n",
              "      <th>location_name</th>\n",
              "      <th>producer_instance_id</th>\n",
              "      <th>producer_instance_type</th>\n",
              "      <th>received_in_downtime</th>\n",
              "      <th>script_id</th>\n",
              "      <th>script_name</th>\n",
              "      <th>server_ip</th>\n",
              "      <th>server_name</th>\n",
              "      <th>status_id</th>\n",
              "      <th>subnet_cmdb_id</th>\n",
              "      <th>subnet_end_ip</th>\n",
              "      <th>subnet_name</th>\n",
              "      <th>subnet_start_ip</th>\n",
              "      <th>tenant_id</th>\n",
              "      <th>timestamp_utc_s</th>\n",
              "      <th>txn_cmdb_global_id</th>\n",
              "      <th>txn_cmdb_id</th>\n",
              "      <th>txn_description</th>\n",
              "      <th>txn_instance_id</th>\n",
              "      <th>txn_name</th>\n",
              "      <th>txn_availability_status</th>\n",
              "      <th>txn_connection_time_ms</th>\n",
              "      <th>txn_connection_time_sum_ms</th>\n",
              "      <th>txn_critical_hits_count</th>\n",
              "      <th>txn_critical_threshold_ms</th>\n",
              "      <th>txn_dns_time_ms</th>\n",
              "      <th>txn_dns_time_sum_ms</th>\n",
              "      <th>txn_download_size_b</th>\n",
              "      <th>txn_download_time_ms</th>\n",
              "      <th>txn_download_time_sum_ms</th>\n",
              "      <th>txn_error_count</th>\n",
              "      <th>txn_flow_cmdb_global_id</th>\n",
              "      <th>txn_flow_cmdb_id</th>\n",
              "      <th>txn_flow_name</th>\n",
              "      <th>txn_minor_hits_count</th>\n",
              "      <th>txn_net_fb_time_ms</th>\n",
              "      <th>txn_net_firstbuffer_time_sum_ms</th>\n",
              "      <th>txn_net_time_ms</th>\n",
              "      <th>txn_net_time_sum_ms</th>\n",
              "      <th>txn_ok_hits_count</th>\n",
              "      <th>txn_outlier_threshold_ms</th>\n",
              "      <th>txn_page_component_count</th>\n",
              "      <th>txn_poor_threshold_ms</th>\n",
              "      <th>txn_response_time_ms</th>\n",
              "      <th>txn_retry_time_ms</th>\n",
              "      <th>txn_retry_time_sum_ms</th>\n",
              "      <th>txn_server_fb_time_ms</th>\n",
              "      <th>txn_server_fb_time_sum_ms</th>\n",
              "      <th>txn_ssl_time_ms</th>\n",
              "      <th>txn_ssl_time_sum_ms</th>\n",
              "    </tr>\n",
              "  </thead>\n",
              "  <tbody>\n",
              "    <tr>\n",
              "      <th>0</th>\n",
              "      <td>6</td>\n",
              "      <td>opsb75</td>\n",
              "      <td>NaN</td>\n",
              "      <td>4c809d28-de58-f503-bc89-cd10f260785a</td>\n",
              "      <td>AOS Gateway</td>\n",
              "      <td>IT Department</td>\n",
              "      <td>NaN</td>\n",
              "      <td>NaN</td>\n",
              "      <td>Push</td>\n",
              "      <td>AOS_Cart_Load</td>\n",
              "      <td>Collection Service - Synthetic</td>\n",
              "      <td>1</td>\n",
              "      <td>Default Client</td>\n",
              "      <td>NaN</td>\n",
              "      <td>NaN</td>\n",
              "      <td>47d109ac-b859-0b29-896d-7e17c7bcb755</td>\n",
              "      <td>4b0d601b-5a23-d308-943c-470da014ce4a</td>\n",
              "      <td>India</td>\n",
              "      <td>opsb_synthetic_trans</td>\n",
              "      <td>BPM Probe</td>\n",
              "      <td>NaN</td>\n",
              "      <td>17</td>\n",
              "      <td>AOS_Cart_Load</td>\n",
              "      <td>NaN</td>\n",
              "      <td>NaN</td>\n",
              "      <td>0</td>\n",
              "      <td>NaN</td>\n",
              "      <td>NaN</td>\n",
              "      <td>NaN</td>\n",
              "      <td>NaN</td>\n",
              "      <td>NaN</td>\n",
              "      <td>1628769201</td>\n",
              "      <td>NaN</td>\n",
              "      <td>4bd4d14f-ff18-3dec-a399-154c65632ec5</td>\n",
              "      <td>NaN</td>\n",
              "      <td>NaN</td>\n",
              "      <td>Add_Laptop_To_Cart</td>\n",
              "      <td>0.1</td>\n",
              "      <td>1.0</td>\n",
              "      <td>2.0</td>\n",
              "      <td>0.0</td>\n",
              "      <td>12000.0</td>\n",
              "      <td>NaN</td>\n",
              "      <td>NaN</td>\n",
              "      <td>756939.0</td>\n",
              "      <td>140.0</td>\n",
              "      <td>602.0</td>\n",
              "      <td>0</td>\n",
              "      <td>NaN</td>\n",
              "      <td>4cdbc239-a36b-c9a9-a251-7665b22e47a2</td>\n",
              "      <td>AOS_Cart_Load</td>\n",
              "      <td>0.0</td>\n",
              "      <td>179.0</td>\n",
              "      <td>1267.0</td>\n",
              "      <td>NaN</td>\n",
              "      <td>NaN</td>\n",
              "      <td>1.0</td>\n",
              "      <td>45000.0</td>\n",
              "      <td>15.0</td>\n",
              "      <td>8000.0</td>\n",
              "      <td>583</td>\n",
              "      <td>NaN</td>\n",
              "      <td>NaN</td>\n",
              "      <td>NaN</td>\n",
              "      <td>NaN</td>\n",
              "      <td>NaN</td>\n",
              "      <td>NaN</td>\n",
              "    </tr>\n",
              "    <tr>\n",
              "      <th>1</th>\n",
              "      <td>6</td>\n",
              "      <td>opsb75</td>\n",
              "      <td>NaN</td>\n",
              "      <td>4c809d28-de58-f503-bc89-cd10f260785a</td>\n",
              "      <td>AOS Gateway</td>\n",
              "      <td>IT Department</td>\n",
              "      <td>NaN</td>\n",
              "      <td>NaN</td>\n",
              "      <td>Push</td>\n",
              "      <td>AOS_Cart_Load</td>\n",
              "      <td>Collection Service - Synthetic</td>\n",
              "      <td>1</td>\n",
              "      <td>Default Client</td>\n",
              "      <td>NaN</td>\n",
              "      <td>NaN</td>\n",
              "      <td>47d109ac-b859-0b29-896d-7e17c7bcb755</td>\n",
              "      <td>4b0d601b-5a23-d308-943c-470da014ce4a</td>\n",
              "      <td>India</td>\n",
              "      <td>opsb_synthetic_trans</td>\n",
              "      <td>BPM Probe</td>\n",
              "      <td>NaN</td>\n",
              "      <td>17</td>\n",
              "      <td>AOS_Cart_Load</td>\n",
              "      <td>NaN</td>\n",
              "      <td>NaN</td>\n",
              "      <td>0</td>\n",
              "      <td>NaN</td>\n",
              "      <td>NaN</td>\n",
              "      <td>NaN</td>\n",
              "      <td>NaN</td>\n",
              "      <td>NaN</td>\n",
              "      <td>1628770093</td>\n",
              "      <td>NaN</td>\n",
              "      <td>4bd4d14f-ff18-3dec-a399-154c65632ec5</td>\n",
              "      <td>NaN</td>\n",
              "      <td>NaN</td>\n",
              "      <td>Add_Laptop_To_Cart</td>\n",
              "      <td>0.1</td>\n",
              "      <td>1.0</td>\n",
              "      <td>1.0</td>\n",
              "      <td>0.0</td>\n",
              "      <td>12000.0</td>\n",
              "      <td>NaN</td>\n",
              "      <td>NaN</td>\n",
              "      <td>756938.0</td>\n",
              "      <td>163.0</td>\n",
              "      <td>581.0</td>\n",
              "      <td>0</td>\n",
              "      <td>NaN</td>\n",
              "      <td>4cdbc239-a36b-c9a9-a251-7665b22e47a2</td>\n",
              "      <td>AOS_Cart_Load</td>\n",
              "      <td>0.0</td>\n",
              "      <td>181.0</td>\n",
              "      <td>1184.0</td>\n",
              "      <td>NaN</td>\n",
              "      <td>NaN</td>\n",
              "      <td>1.0</td>\n",
              "      <td>45000.0</td>\n",
              "      <td>15.0</td>\n",
              "      <td>8000.0</td>\n",
              "      <td>583</td>\n",
              "      <td>NaN</td>\n",
              "      <td>NaN</td>\n",
              "      <td>NaN</td>\n",
              "      <td>NaN</td>\n",
              "      <td>NaN</td>\n",
              "      <td>NaN</td>\n",
              "    </tr>\n",
              "    <tr>\n",
              "      <th>2</th>\n",
              "      <td>6</td>\n",
              "      <td>opsb75</td>\n",
              "      <td>NaN</td>\n",
              "      <td>4c809d28-de58-f503-bc89-cd10f260785a</td>\n",
              "      <td>AOS Gateway</td>\n",
              "      <td>IT Department</td>\n",
              "      <td>NaN</td>\n",
              "      <td>NaN</td>\n",
              "      <td>Push</td>\n",
              "      <td>AOS_Cart_Load</td>\n",
              "      <td>Collection Service - Synthetic</td>\n",
              "      <td>1</td>\n",
              "      <td>Default Client</td>\n",
              "      <td>NaN</td>\n",
              "      <td>NaN</td>\n",
              "      <td>47d109ac-b859-0b29-896d-7e17c7bcb755</td>\n",
              "      <td>4b0d601b-5a23-d308-943c-470da014ce4a</td>\n",
              "      <td>India</td>\n",
              "      <td>opsb_synthetic_trans</td>\n",
              "      <td>BPM Probe</td>\n",
              "      <td>NaN</td>\n",
              "      <td>17</td>\n",
              "      <td>AOS_Cart_Load</td>\n",
              "      <td>NaN</td>\n",
              "      <td>NaN</td>\n",
              "      <td>0</td>\n",
              "      <td>NaN</td>\n",
              "      <td>NaN</td>\n",
              "      <td>NaN</td>\n",
              "      <td>NaN</td>\n",
              "      <td>NaN</td>\n",
              "      <td>1628770995</td>\n",
              "      <td>NaN</td>\n",
              "      <td>4bd4d14f-ff18-3dec-a399-154c65632ec5</td>\n",
              "      <td>NaN</td>\n",
              "      <td>NaN</td>\n",
              "      <td>Add_Laptop_To_Cart</td>\n",
              "      <td>0.1</td>\n",
              "      <td>1.0</td>\n",
              "      <td>5.0</td>\n",
              "      <td>0.0</td>\n",
              "      <td>12000.0</td>\n",
              "      <td>NaN</td>\n",
              "      <td>NaN</td>\n",
              "      <td>756943.0</td>\n",
              "      <td>181.0</td>\n",
              "      <td>496.0</td>\n",
              "      <td>0</td>\n",
              "      <td>NaN</td>\n",
              "      <td>4cdbc239-a36b-c9a9-a251-7665b22e47a2</td>\n",
              "      <td>AOS_Cart_Load</td>\n",
              "      <td>0.0</td>\n",
              "      <td>205.0</td>\n",
              "      <td>1394.0</td>\n",
              "      <td>NaN</td>\n",
              "      <td>NaN</td>\n",
              "      <td>1.0</td>\n",
              "      <td>45000.0</td>\n",
              "      <td>15.0</td>\n",
              "      <td>8000.0</td>\n",
              "      <td>589</td>\n",
              "      <td>NaN</td>\n",
              "      <td>NaN</td>\n",
              "      <td>NaN</td>\n",
              "      <td>NaN</td>\n",
              "      <td>NaN</td>\n",
              "      <td>NaN</td>\n",
              "    </tr>\n",
              "    <tr>\n",
              "      <th>3</th>\n",
              "      <td>6</td>\n",
              "      <td>opsb75</td>\n",
              "      <td>NaN</td>\n",
              "      <td>4c809d28-de58-f503-bc89-cd10f260785a</td>\n",
              "      <td>AOS Gateway</td>\n",
              "      <td>IT Department</td>\n",
              "      <td>NaN</td>\n",
              "      <td>NaN</td>\n",
              "      <td>Push</td>\n",
              "      <td>AOS_Cart_Load</td>\n",
              "      <td>Collection Service - Synthetic</td>\n",
              "      <td>1</td>\n",
              "      <td>Default Client</td>\n",
              "      <td>NaN</td>\n",
              "      <td>NaN</td>\n",
              "      <td>47d109ac-b859-0b29-896d-7e17c7bcb755</td>\n",
              "      <td>4b0d601b-5a23-d308-943c-470da014ce4a</td>\n",
              "      <td>India</td>\n",
              "      <td>opsb_synthetic_trans</td>\n",
              "      <td>BPM Probe</td>\n",
              "      <td>NaN</td>\n",
              "      <td>17</td>\n",
              "      <td>AOS_Cart_Load</td>\n",
              "      <td>NaN</td>\n",
              "      <td>NaN</td>\n",
              "      <td>0</td>\n",
              "      <td>NaN</td>\n",
              "      <td>NaN</td>\n",
              "      <td>NaN</td>\n",
              "      <td>NaN</td>\n",
              "      <td>NaN</td>\n",
              "      <td>1628771895</td>\n",
              "      <td>NaN</td>\n",
              "      <td>4bd4d14f-ff18-3dec-a399-154c65632ec5</td>\n",
              "      <td>NaN</td>\n",
              "      <td>NaN</td>\n",
              "      <td>Add_Laptop_To_Cart</td>\n",
              "      <td>0.1</td>\n",
              "      <td>1.0</td>\n",
              "      <td>5.0</td>\n",
              "      <td>0.0</td>\n",
              "      <td>12000.0</td>\n",
              "      <td>NaN</td>\n",
              "      <td>NaN</td>\n",
              "      <td>756938.0</td>\n",
              "      <td>119.0</td>\n",
              "      <td>486.0</td>\n",
              "      <td>0</td>\n",
              "      <td>NaN</td>\n",
              "      <td>4cdbc239-a36b-c9a9-a251-7665b22e47a2</td>\n",
              "      <td>AOS_Cart_Load</td>\n",
              "      <td>0.0</td>\n",
              "      <td>176.0</td>\n",
              "      <td>1093.0</td>\n",
              "      <td>NaN</td>\n",
              "      <td>NaN</td>\n",
              "      <td>1.0</td>\n",
              "      <td>45000.0</td>\n",
              "      <td>15.0</td>\n",
              "      <td>8000.0</td>\n",
              "      <td>568</td>\n",
              "      <td>NaN</td>\n",
              "      <td>NaN</td>\n",
              "      <td>NaN</td>\n",
              "      <td>NaN</td>\n",
              "      <td>NaN</td>\n",
              "      <td>NaN</td>\n",
              "    </tr>\n",
              "    <tr>\n",
              "      <th>4</th>\n",
              "      <td>6</td>\n",
              "      <td>opsb75</td>\n",
              "      <td>NaN</td>\n",
              "      <td>4c809d28-de58-f503-bc89-cd10f260785a</td>\n",
              "      <td>AOS Gateway</td>\n",
              "      <td>IT Department</td>\n",
              "      <td>NaN</td>\n",
              "      <td>NaN</td>\n",
              "      <td>Push</td>\n",
              "      <td>AOS_Cart_Load</td>\n",
              "      <td>Collection Service - Synthetic</td>\n",
              "      <td>1</td>\n",
              "      <td>Default Client</td>\n",
              "      <td>NaN</td>\n",
              "      <td>NaN</td>\n",
              "      <td>47d109ac-b859-0b29-896d-7e17c7bcb755</td>\n",
              "      <td>4b0d601b-5a23-d308-943c-470da014ce4a</td>\n",
              "      <td>India</td>\n",
              "      <td>opsb_synthetic_trans</td>\n",
              "      <td>BPM Probe</td>\n",
              "      <td>NaN</td>\n",
              "      <td>17</td>\n",
              "      <td>AOS_Cart_Load</td>\n",
              "      <td>NaN</td>\n",
              "      <td>NaN</td>\n",
              "      <td>0</td>\n",
              "      <td>NaN</td>\n",
              "      <td>NaN</td>\n",
              "      <td>NaN</td>\n",
              "      <td>NaN</td>\n",
              "      <td>NaN</td>\n",
              "      <td>1628772786</td>\n",
              "      <td>NaN</td>\n",
              "      <td>4bd4d14f-ff18-3dec-a399-154c65632ec5</td>\n",
              "      <td>NaN</td>\n",
              "      <td>NaN</td>\n",
              "      <td>Add_Laptop_To_Cart</td>\n",
              "      <td>0.1</td>\n",
              "      <td>1.0</td>\n",
              "      <td>2.0</td>\n",
              "      <td>0.0</td>\n",
              "      <td>12000.0</td>\n",
              "      <td>NaN</td>\n",
              "      <td>NaN</td>\n",
              "      <td>756934.0</td>\n",
              "      <td>84.0</td>\n",
              "      <td>440.0</td>\n",
              "      <td>0</td>\n",
              "      <td>NaN</td>\n",
              "      <td>4cdbc239-a36b-c9a9-a251-7665b22e47a2</td>\n",
              "      <td>AOS_Cart_Load</td>\n",
              "      <td>0.0</td>\n",
              "      <td>168.0</td>\n",
              "      <td>1108.0</td>\n",
              "      <td>NaN</td>\n",
              "      <td>NaN</td>\n",
              "      <td>1.0</td>\n",
              "      <td>45000.0</td>\n",
              "      <td>15.0</td>\n",
              "      <td>8000.0</td>\n",
              "      <td>607</td>\n",
              "      <td>NaN</td>\n",
              "      <td>NaN</td>\n",
              "      <td>NaN</td>\n",
              "      <td>NaN</td>\n",
              "      <td>NaN</td>\n",
              "      <td>NaN</td>\n",
              "    </tr>\n",
              "  </tbody>\n",
              "</table>\n",
              "</div>"
            ],
            "text/plain": [
              "   agent_id agent_name  ... txn_ssl_time_ms txn_ssl_time_sum_ms\n",
              "0         6     opsb75  ...             NaN                 NaN\n",
              "1         6     opsb75  ...             NaN                 NaN\n",
              "2         6     opsb75  ...             NaN                 NaN\n",
              "3         6     opsb75  ...             NaN                 NaN\n",
              "4         6     opsb75  ...             NaN                 NaN\n",
              "\n",
              "[5 rows x 67 columns]"
            ]
          },
          "metadata": {},
          "execution_count": 15
        }
      ]
    },
    {
      "cell_type": "code",
      "metadata": {
        "colab": {
          "base_uri": "https://localhost:8080/",
          "height": 392
        },
        "id": "F5TaAUCPRah3",
        "outputId": "96a1ef31-20cf-49a4-d84f-55592e523292"
      },
      "source": [
        "df.head()"
      ],
      "execution_count": null,
      "outputs": [
        {
          "output_type": "execute_result",
          "data": {
            "text/html": [
              "<div>\n",
              "<style scoped>\n",
              "    .dataframe tbody tr th:only-of-type {\n",
              "        vertical-align: middle;\n",
              "    }\n",
              "\n",
              "    .dataframe tbody tr th {\n",
              "        vertical-align: top;\n",
              "    }\n",
              "\n",
              "    .dataframe thead th {\n",
              "        text-align: right;\n",
              "    }\n",
              "</style>\n",
              "<table border=\"1\" class=\"dataframe\">\n",
              "  <thead>\n",
              "    <tr style=\"text-align: right;\">\n",
              "      <th></th>\n",
              "      <th>agent_id</th>\n",
              "      <th>agent_name</th>\n",
              "      <th>application_cmdb_global_id</th>\n",
              "      <th>application_cmdb_id</th>\n",
              "      <th>application_name</th>\n",
              "      <th>application_owner</th>\n",
              "      <th>client_device_id</th>\n",
              "      <th>client_device_name</th>\n",
              "      <th>collection_data_flow</th>\n",
              "      <th>collection_policy_name</th>\n",
              "      <th>collection_type</th>\n",
              "      <th>customer_id</th>\n",
              "      <th>customer_name</th>\n",
              "      <th>endusergroup_cmdb_id</th>\n",
              "      <th>endusergroup_name</th>\n",
              "      <th>location_cmdb_global_id</th>\n",
              "      <th>location_cmdb_id</th>\n",
              "      <th>location_name</th>\n",
              "      <th>producer_instance_id</th>\n",
              "      <th>producer_instance_type</th>\n",
              "      <th>received_in_downtime</th>\n",
              "      <th>script_id</th>\n",
              "      <th>script_name</th>\n",
              "      <th>server_ip</th>\n",
              "      <th>server_name</th>\n",
              "      <th>status_id</th>\n",
              "      <th>subnet_cmdb_id</th>\n",
              "      <th>subnet_end_ip</th>\n",
              "      <th>subnet_name</th>\n",
              "      <th>subnet_start_ip</th>\n",
              "      <th>tenant_id</th>\n",
              "      <th>timestamp_utc_s</th>\n",
              "      <th>txn_cmdb_global_id</th>\n",
              "      <th>txn_cmdb_id</th>\n",
              "      <th>txn_description</th>\n",
              "      <th>txn_instance_id</th>\n",
              "      <th>txn_name</th>\n",
              "      <th>txn_availability_status</th>\n",
              "      <th>txn_connection_time_ms</th>\n",
              "      <th>txn_connection_time_sum_ms</th>\n",
              "      <th>txn_critical_hits_count</th>\n",
              "      <th>txn_critical_threshold_ms</th>\n",
              "      <th>txn_dns_time_ms</th>\n",
              "      <th>txn_dns_time_sum_ms</th>\n",
              "      <th>txn_download_size_b</th>\n",
              "      <th>txn_download_time_ms</th>\n",
              "      <th>txn_download_time_sum_ms</th>\n",
              "      <th>txn_error_count</th>\n",
              "      <th>txn_flow_cmdb_global_id</th>\n",
              "      <th>txn_flow_cmdb_id</th>\n",
              "      <th>txn_flow_name</th>\n",
              "      <th>txn_minor_hits_count</th>\n",
              "      <th>txn_net_fb_time_ms</th>\n",
              "      <th>txn_net_firstbuffer_time_sum_ms</th>\n",
              "      <th>txn_net_time_ms</th>\n",
              "      <th>txn_net_time_sum_ms</th>\n",
              "      <th>txn_ok_hits_count</th>\n",
              "      <th>txn_outlier_threshold_ms</th>\n",
              "      <th>txn_page_component_count</th>\n",
              "      <th>txn_poor_threshold_ms</th>\n",
              "      <th>txn_response_time_ms</th>\n",
              "      <th>txn_retry_time_ms</th>\n",
              "      <th>txn_retry_time_sum_ms</th>\n",
              "      <th>txn_server_fb_time_ms</th>\n",
              "      <th>txn_server_fb_time_sum_ms</th>\n",
              "      <th>txn_ssl_time_ms</th>\n",
              "      <th>txn_ssl_time_sum_ms</th>\n",
              "    </tr>\n",
              "  </thead>\n",
              "  <tbody>\n",
              "    <tr>\n",
              "      <th>0</th>\n",
              "      <td>6</td>\n",
              "      <td>opsb75</td>\n",
              "      <td>NaN</td>\n",
              "      <td>4c809d28-de58-f503-bc89-cd10f260785a</td>\n",
              "      <td>AOS Gateway</td>\n",
              "      <td>IT Department</td>\n",
              "      <td>NaN</td>\n",
              "      <td>NaN</td>\n",
              "      <td>Push</td>\n",
              "      <td>AOS_Cart_Load</td>\n",
              "      <td>Collection Service - Synthetic</td>\n",
              "      <td>1</td>\n",
              "      <td>Default Client</td>\n",
              "      <td>NaN</td>\n",
              "      <td>NaN</td>\n",
              "      <td>47d109ac-b859-0b29-896d-7e17c7bcb755</td>\n",
              "      <td>4b0d601b-5a23-d308-943c-470da014ce4a</td>\n",
              "      <td>India</td>\n",
              "      <td>opsb_synthetic_trans</td>\n",
              "      <td>BPM Probe</td>\n",
              "      <td>NaN</td>\n",
              "      <td>17</td>\n",
              "      <td>AOS_Cart_Load</td>\n",
              "      <td>NaN</td>\n",
              "      <td>NaN</td>\n",
              "      <td>0</td>\n",
              "      <td>NaN</td>\n",
              "      <td>NaN</td>\n",
              "      <td>NaN</td>\n",
              "      <td>NaN</td>\n",
              "      <td>NaN</td>\n",
              "      <td>1628769201</td>\n",
              "      <td>NaN</td>\n",
              "      <td>4bd4d14f-ff18-3dec-a399-154c65632ec5</td>\n",
              "      <td>NaN</td>\n",
              "      <td>NaN</td>\n",
              "      <td>Add_Laptop_To_Cart</td>\n",
              "      <td>0.1</td>\n",
              "      <td>1.0</td>\n",
              "      <td>2.0</td>\n",
              "      <td>0.0</td>\n",
              "      <td>12000.0</td>\n",
              "      <td>NaN</td>\n",
              "      <td>NaN</td>\n",
              "      <td>756939.0</td>\n",
              "      <td>140.0</td>\n",
              "      <td>602.0</td>\n",
              "      <td>0</td>\n",
              "      <td>NaN</td>\n",
              "      <td>4cdbc239-a36b-c9a9-a251-7665b22e47a2</td>\n",
              "      <td>AOS_Cart_Load</td>\n",
              "      <td>0.0</td>\n",
              "      <td>179.0</td>\n",
              "      <td>1267.0</td>\n",
              "      <td>NaN</td>\n",
              "      <td>NaN</td>\n",
              "      <td>1.0</td>\n",
              "      <td>45000.0</td>\n",
              "      <td>15.0</td>\n",
              "      <td>8000.0</td>\n",
              "      <td>583</td>\n",
              "      <td>NaN</td>\n",
              "      <td>NaN</td>\n",
              "      <td>NaN</td>\n",
              "      <td>NaN</td>\n",
              "      <td>NaN</td>\n",
              "      <td>NaN</td>\n",
              "    </tr>\n",
              "    <tr>\n",
              "      <th>1</th>\n",
              "      <td>6</td>\n",
              "      <td>opsb75</td>\n",
              "      <td>NaN</td>\n",
              "      <td>4c809d28-de58-f503-bc89-cd10f260785a</td>\n",
              "      <td>AOS Gateway</td>\n",
              "      <td>IT Department</td>\n",
              "      <td>NaN</td>\n",
              "      <td>NaN</td>\n",
              "      <td>Push</td>\n",
              "      <td>AOS_Cart_Load</td>\n",
              "      <td>Collection Service - Synthetic</td>\n",
              "      <td>1</td>\n",
              "      <td>Default Client</td>\n",
              "      <td>NaN</td>\n",
              "      <td>NaN</td>\n",
              "      <td>47d109ac-b859-0b29-896d-7e17c7bcb755</td>\n",
              "      <td>4b0d601b-5a23-d308-943c-470da014ce4a</td>\n",
              "      <td>India</td>\n",
              "      <td>opsb_synthetic_trans</td>\n",
              "      <td>BPM Probe</td>\n",
              "      <td>NaN</td>\n",
              "      <td>17</td>\n",
              "      <td>AOS_Cart_Load</td>\n",
              "      <td>NaN</td>\n",
              "      <td>NaN</td>\n",
              "      <td>0</td>\n",
              "      <td>NaN</td>\n",
              "      <td>NaN</td>\n",
              "      <td>NaN</td>\n",
              "      <td>NaN</td>\n",
              "      <td>NaN</td>\n",
              "      <td>1628770093</td>\n",
              "      <td>NaN</td>\n",
              "      <td>4bd4d14f-ff18-3dec-a399-154c65632ec5</td>\n",
              "      <td>NaN</td>\n",
              "      <td>NaN</td>\n",
              "      <td>Add_Laptop_To_Cart</td>\n",
              "      <td>0.1</td>\n",
              "      <td>1.0</td>\n",
              "      <td>1.0</td>\n",
              "      <td>0.0</td>\n",
              "      <td>12000.0</td>\n",
              "      <td>NaN</td>\n",
              "      <td>NaN</td>\n",
              "      <td>756938.0</td>\n",
              "      <td>163.0</td>\n",
              "      <td>581.0</td>\n",
              "      <td>0</td>\n",
              "      <td>NaN</td>\n",
              "      <td>4cdbc239-a36b-c9a9-a251-7665b22e47a2</td>\n",
              "      <td>AOS_Cart_Load</td>\n",
              "      <td>0.0</td>\n",
              "      <td>181.0</td>\n",
              "      <td>1184.0</td>\n",
              "      <td>NaN</td>\n",
              "      <td>NaN</td>\n",
              "      <td>1.0</td>\n",
              "      <td>45000.0</td>\n",
              "      <td>15.0</td>\n",
              "      <td>8000.0</td>\n",
              "      <td>583</td>\n",
              "      <td>NaN</td>\n",
              "      <td>NaN</td>\n",
              "      <td>NaN</td>\n",
              "      <td>NaN</td>\n",
              "      <td>NaN</td>\n",
              "      <td>NaN</td>\n",
              "    </tr>\n",
              "    <tr>\n",
              "      <th>2</th>\n",
              "      <td>6</td>\n",
              "      <td>opsb75</td>\n",
              "      <td>NaN</td>\n",
              "      <td>4c809d28-de58-f503-bc89-cd10f260785a</td>\n",
              "      <td>AOS Gateway</td>\n",
              "      <td>IT Department</td>\n",
              "      <td>NaN</td>\n",
              "      <td>NaN</td>\n",
              "      <td>Push</td>\n",
              "      <td>AOS_Cart_Load</td>\n",
              "      <td>Collection Service - Synthetic</td>\n",
              "      <td>1</td>\n",
              "      <td>Default Client</td>\n",
              "      <td>NaN</td>\n",
              "      <td>NaN</td>\n",
              "      <td>47d109ac-b859-0b29-896d-7e17c7bcb755</td>\n",
              "      <td>4b0d601b-5a23-d308-943c-470da014ce4a</td>\n",
              "      <td>India</td>\n",
              "      <td>opsb_synthetic_trans</td>\n",
              "      <td>BPM Probe</td>\n",
              "      <td>NaN</td>\n",
              "      <td>17</td>\n",
              "      <td>AOS_Cart_Load</td>\n",
              "      <td>NaN</td>\n",
              "      <td>NaN</td>\n",
              "      <td>0</td>\n",
              "      <td>NaN</td>\n",
              "      <td>NaN</td>\n",
              "      <td>NaN</td>\n",
              "      <td>NaN</td>\n",
              "      <td>NaN</td>\n",
              "      <td>1628770995</td>\n",
              "      <td>NaN</td>\n",
              "      <td>4bd4d14f-ff18-3dec-a399-154c65632ec5</td>\n",
              "      <td>NaN</td>\n",
              "      <td>NaN</td>\n",
              "      <td>Add_Laptop_To_Cart</td>\n",
              "      <td>0.1</td>\n",
              "      <td>1.0</td>\n",
              "      <td>5.0</td>\n",
              "      <td>0.0</td>\n",
              "      <td>12000.0</td>\n",
              "      <td>NaN</td>\n",
              "      <td>NaN</td>\n",
              "      <td>756943.0</td>\n",
              "      <td>181.0</td>\n",
              "      <td>496.0</td>\n",
              "      <td>0</td>\n",
              "      <td>NaN</td>\n",
              "      <td>4cdbc239-a36b-c9a9-a251-7665b22e47a2</td>\n",
              "      <td>AOS_Cart_Load</td>\n",
              "      <td>0.0</td>\n",
              "      <td>205.0</td>\n",
              "      <td>1394.0</td>\n",
              "      <td>NaN</td>\n",
              "      <td>NaN</td>\n",
              "      <td>1.0</td>\n",
              "      <td>45000.0</td>\n",
              "      <td>15.0</td>\n",
              "      <td>8000.0</td>\n",
              "      <td>589</td>\n",
              "      <td>NaN</td>\n",
              "      <td>NaN</td>\n",
              "      <td>NaN</td>\n",
              "      <td>NaN</td>\n",
              "      <td>NaN</td>\n",
              "      <td>NaN</td>\n",
              "    </tr>\n",
              "    <tr>\n",
              "      <th>3</th>\n",
              "      <td>6</td>\n",
              "      <td>opsb75</td>\n",
              "      <td>NaN</td>\n",
              "      <td>4c809d28-de58-f503-bc89-cd10f260785a</td>\n",
              "      <td>AOS Gateway</td>\n",
              "      <td>IT Department</td>\n",
              "      <td>NaN</td>\n",
              "      <td>NaN</td>\n",
              "      <td>Push</td>\n",
              "      <td>AOS_Cart_Load</td>\n",
              "      <td>Collection Service - Synthetic</td>\n",
              "      <td>1</td>\n",
              "      <td>Default Client</td>\n",
              "      <td>NaN</td>\n",
              "      <td>NaN</td>\n",
              "      <td>47d109ac-b859-0b29-896d-7e17c7bcb755</td>\n",
              "      <td>4b0d601b-5a23-d308-943c-470da014ce4a</td>\n",
              "      <td>India</td>\n",
              "      <td>opsb_synthetic_trans</td>\n",
              "      <td>BPM Probe</td>\n",
              "      <td>NaN</td>\n",
              "      <td>17</td>\n",
              "      <td>AOS_Cart_Load</td>\n",
              "      <td>NaN</td>\n",
              "      <td>NaN</td>\n",
              "      <td>0</td>\n",
              "      <td>NaN</td>\n",
              "      <td>NaN</td>\n",
              "      <td>NaN</td>\n",
              "      <td>NaN</td>\n",
              "      <td>NaN</td>\n",
              "      <td>1628771895</td>\n",
              "      <td>NaN</td>\n",
              "      <td>4bd4d14f-ff18-3dec-a399-154c65632ec5</td>\n",
              "      <td>NaN</td>\n",
              "      <td>NaN</td>\n",
              "      <td>Add_Laptop_To_Cart</td>\n",
              "      <td>0.1</td>\n",
              "      <td>1.0</td>\n",
              "      <td>5.0</td>\n",
              "      <td>0.0</td>\n",
              "      <td>12000.0</td>\n",
              "      <td>NaN</td>\n",
              "      <td>NaN</td>\n",
              "      <td>756938.0</td>\n",
              "      <td>119.0</td>\n",
              "      <td>486.0</td>\n",
              "      <td>0</td>\n",
              "      <td>NaN</td>\n",
              "      <td>4cdbc239-a36b-c9a9-a251-7665b22e47a2</td>\n",
              "      <td>AOS_Cart_Load</td>\n",
              "      <td>0.0</td>\n",
              "      <td>176.0</td>\n",
              "      <td>1093.0</td>\n",
              "      <td>NaN</td>\n",
              "      <td>NaN</td>\n",
              "      <td>1.0</td>\n",
              "      <td>45000.0</td>\n",
              "      <td>15.0</td>\n",
              "      <td>8000.0</td>\n",
              "      <td>568</td>\n",
              "      <td>NaN</td>\n",
              "      <td>NaN</td>\n",
              "      <td>NaN</td>\n",
              "      <td>NaN</td>\n",
              "      <td>NaN</td>\n",
              "      <td>NaN</td>\n",
              "    </tr>\n",
              "    <tr>\n",
              "      <th>4</th>\n",
              "      <td>6</td>\n",
              "      <td>opsb75</td>\n",
              "      <td>NaN</td>\n",
              "      <td>4c809d28-de58-f503-bc89-cd10f260785a</td>\n",
              "      <td>AOS Gateway</td>\n",
              "      <td>IT Department</td>\n",
              "      <td>NaN</td>\n",
              "      <td>NaN</td>\n",
              "      <td>Push</td>\n",
              "      <td>AOS_Cart_Load</td>\n",
              "      <td>Collection Service - Synthetic</td>\n",
              "      <td>1</td>\n",
              "      <td>Default Client</td>\n",
              "      <td>NaN</td>\n",
              "      <td>NaN</td>\n",
              "      <td>47d109ac-b859-0b29-896d-7e17c7bcb755</td>\n",
              "      <td>4b0d601b-5a23-d308-943c-470da014ce4a</td>\n",
              "      <td>India</td>\n",
              "      <td>opsb_synthetic_trans</td>\n",
              "      <td>BPM Probe</td>\n",
              "      <td>NaN</td>\n",
              "      <td>17</td>\n",
              "      <td>AOS_Cart_Load</td>\n",
              "      <td>NaN</td>\n",
              "      <td>NaN</td>\n",
              "      <td>0</td>\n",
              "      <td>NaN</td>\n",
              "      <td>NaN</td>\n",
              "      <td>NaN</td>\n",
              "      <td>NaN</td>\n",
              "      <td>NaN</td>\n",
              "      <td>1628772786</td>\n",
              "      <td>NaN</td>\n",
              "      <td>4bd4d14f-ff18-3dec-a399-154c65632ec5</td>\n",
              "      <td>NaN</td>\n",
              "      <td>NaN</td>\n",
              "      <td>Add_Laptop_To_Cart</td>\n",
              "      <td>0.1</td>\n",
              "      <td>1.0</td>\n",
              "      <td>2.0</td>\n",
              "      <td>0.0</td>\n",
              "      <td>12000.0</td>\n",
              "      <td>NaN</td>\n",
              "      <td>NaN</td>\n",
              "      <td>756934.0</td>\n",
              "      <td>84.0</td>\n",
              "      <td>440.0</td>\n",
              "      <td>0</td>\n",
              "      <td>NaN</td>\n",
              "      <td>4cdbc239-a36b-c9a9-a251-7665b22e47a2</td>\n",
              "      <td>AOS_Cart_Load</td>\n",
              "      <td>0.0</td>\n",
              "      <td>168.0</td>\n",
              "      <td>1108.0</td>\n",
              "      <td>NaN</td>\n",
              "      <td>NaN</td>\n",
              "      <td>1.0</td>\n",
              "      <td>45000.0</td>\n",
              "      <td>15.0</td>\n",
              "      <td>8000.0</td>\n",
              "      <td>607</td>\n",
              "      <td>NaN</td>\n",
              "      <td>NaN</td>\n",
              "      <td>NaN</td>\n",
              "      <td>NaN</td>\n",
              "      <td>NaN</td>\n",
              "      <td>NaN</td>\n",
              "    </tr>\n",
              "  </tbody>\n",
              "</table>\n",
              "</div>"
            ],
            "text/plain": [
              "   agent_id agent_name  ... txn_ssl_time_ms txn_ssl_time_sum_ms\n",
              "0         6     opsb75  ...             NaN                 NaN\n",
              "1         6     opsb75  ...             NaN                 NaN\n",
              "2         6     opsb75  ...             NaN                 NaN\n",
              "3         6     opsb75  ...             NaN                 NaN\n",
              "4         6     opsb75  ...             NaN                 NaN\n",
              "\n",
              "[5 rows x 67 columns]"
            ]
          },
          "metadata": {},
          "execution_count": 16
        }
      ]
    },
    {
      "cell_type": "code",
      "metadata": {
        "colab": {
          "base_uri": "https://localhost:8080/",
          "height": 316
        },
        "id": "d7fttENWRah6",
        "outputId": "17bf6ab0-1e90-46a4-ebc4-fae70a7b80ea"
      },
      "source": [
        "df.describe()"
      ],
      "execution_count": null,
      "outputs": [
        {
          "output_type": "execute_result",
          "data": {
            "text/html": [
              "<div>\n",
              "<style scoped>\n",
              "    .dataframe tbody tr th:only-of-type {\n",
              "        vertical-align: middle;\n",
              "    }\n",
              "\n",
              "    .dataframe tbody tr th {\n",
              "        vertical-align: top;\n",
              "    }\n",
              "\n",
              "    .dataframe thead th {\n",
              "        text-align: right;\n",
              "    }\n",
              "</style>\n",
              "<table border=\"1\" class=\"dataframe\">\n",
              "  <thead>\n",
              "    <tr style=\"text-align: right;\">\n",
              "      <th></th>\n",
              "      <th>agent_id</th>\n",
              "      <th>client_device_id</th>\n",
              "      <th>client_device_name</th>\n",
              "      <th>customer_id</th>\n",
              "      <th>endusergroup_cmdb_id</th>\n",
              "      <th>endusergroup_name</th>\n",
              "      <th>received_in_downtime</th>\n",
              "      <th>script_id</th>\n",
              "      <th>server_ip</th>\n",
              "      <th>server_name</th>\n",
              "      <th>status_id</th>\n",
              "      <th>subnet_cmdb_id</th>\n",
              "      <th>subnet_end_ip</th>\n",
              "      <th>subnet_name</th>\n",
              "      <th>subnet_start_ip</th>\n",
              "      <th>tenant_id</th>\n",
              "      <th>timestamp_utc_s</th>\n",
              "      <th>txn_description</th>\n",
              "      <th>txn_instance_id</th>\n",
              "      <th>txn_availability_status</th>\n",
              "      <th>txn_connection_time_ms</th>\n",
              "      <th>txn_connection_time_sum_ms</th>\n",
              "      <th>txn_critical_hits_count</th>\n",
              "      <th>txn_critical_threshold_ms</th>\n",
              "      <th>txn_dns_time_ms</th>\n",
              "      <th>txn_dns_time_sum_ms</th>\n",
              "      <th>txn_download_size_b</th>\n",
              "      <th>txn_download_time_ms</th>\n",
              "      <th>txn_download_time_sum_ms</th>\n",
              "      <th>txn_error_count</th>\n",
              "      <th>txn_minor_hits_count</th>\n",
              "      <th>txn_net_fb_time_ms</th>\n",
              "      <th>txn_net_firstbuffer_time_sum_ms</th>\n",
              "      <th>txn_net_time_ms</th>\n",
              "      <th>txn_net_time_sum_ms</th>\n",
              "      <th>txn_ok_hits_count</th>\n",
              "      <th>txn_outlier_threshold_ms</th>\n",
              "      <th>txn_page_component_count</th>\n",
              "      <th>txn_poor_threshold_ms</th>\n",
              "      <th>txn_response_time_ms</th>\n",
              "      <th>txn_retry_time_ms</th>\n",
              "      <th>txn_retry_time_sum_ms</th>\n",
              "      <th>txn_server_fb_time_ms</th>\n",
              "      <th>txn_server_fb_time_sum_ms</th>\n",
              "      <th>txn_ssl_time_ms</th>\n",
              "      <th>txn_ssl_time_sum_ms</th>\n",
              "    </tr>\n",
              "  </thead>\n",
              "  <tbody>\n",
              "    <tr>\n",
              "      <th>count</th>\n",
              "      <td>182500.0</td>\n",
              "      <td>0.0</td>\n",
              "      <td>0.0</td>\n",
              "      <td>182500.0</td>\n",
              "      <td>0.0</td>\n",
              "      <td>0.0</td>\n",
              "      <td>0.0</td>\n",
              "      <td>182500.000000</td>\n",
              "      <td>0.0</td>\n",
              "      <td>0.0</td>\n",
              "      <td>182500.000000</td>\n",
              "      <td>0.0</td>\n",
              "      <td>0.0</td>\n",
              "      <td>0.0</td>\n",
              "      <td>0.0</td>\n",
              "      <td>0.0</td>\n",
              "      <td>1.825000e+05</td>\n",
              "      <td>0.0</td>\n",
              "      <td>0.0</td>\n",
              "      <td>182500.000000</td>\n",
              "      <td>176357.000000</td>\n",
              "      <td>176357.000000</td>\n",
              "      <td>182433.000000</td>\n",
              "      <td>182500.000000</td>\n",
              "      <td>17344.000000</td>\n",
              "      <td>17344.000000</td>\n",
              "      <td>1.823790e+05</td>\n",
              "      <td>176357.000000</td>\n",
              "      <td>176357.000000</td>\n",
              "      <td>182500.000000</td>\n",
              "      <td>182433.000000</td>\n",
              "      <td>86945.000000</td>\n",
              "      <td>86945.000000</td>\n",
              "      <td>0.0</td>\n",
              "      <td>0.0</td>\n",
              "      <td>182433.000000</td>\n",
              "      <td>182500.0</td>\n",
              "      <td>182433.000000</td>\n",
              "      <td>182500.000000</td>\n",
              "      <td>182500.000000</td>\n",
              "      <td>0.0</td>\n",
              "      <td>0.0</td>\n",
              "      <td>0.0</td>\n",
              "      <td>0.0</td>\n",
              "      <td>0.0</td>\n",
              "      <td>0.0</td>\n",
              "    </tr>\n",
              "    <tr>\n",
              "      <th>mean</th>\n",
              "      <td>6.0</td>\n",
              "      <td>NaN</td>\n",
              "      <td>NaN</td>\n",
              "      <td>1.0</td>\n",
              "      <td>NaN</td>\n",
              "      <td>NaN</td>\n",
              "      <td>NaN</td>\n",
              "      <td>15.257353</td>\n",
              "      <td>NaN</td>\n",
              "      <td>NaN</td>\n",
              "      <td>0.002904</td>\n",
              "      <td>NaN</td>\n",
              "      <td>NaN</td>\n",
              "      <td>NaN</td>\n",
              "      <td>NaN</td>\n",
              "      <td>NaN</td>\n",
              "      <td>1.631568e+09</td>\n",
              "      <td>NaN</td>\n",
              "      <td>NaN</td>\n",
              "      <td>0.099465</td>\n",
              "      <td>1.235454</td>\n",
              "      <td>2.322159</td>\n",
              "      <td>0.084316</td>\n",
              "      <td>12558.109589</td>\n",
              "      <td>10.007322</td>\n",
              "      <td>13.514933</td>\n",
              "      <td>1.302235e+06</td>\n",
              "      <td>132.257841</td>\n",
              "      <td>400.060962</td>\n",
              "      <td>0.000663</td>\n",
              "      <td>0.040393</td>\n",
              "      <td>3500.687998</td>\n",
              "      <td>5174.404647</td>\n",
              "      <td>NaN</td>\n",
              "      <td>NaN</td>\n",
              "      <td>0.874792</td>\n",
              "      <td>45000.0</td>\n",
              "      <td>11.663235</td>\n",
              "      <td>8515.178082</td>\n",
              "      <td>2819.269989</td>\n",
              "      <td>NaN</td>\n",
              "      <td>NaN</td>\n",
              "      <td>NaN</td>\n",
              "      <td>NaN</td>\n",
              "      <td>NaN</td>\n",
              "      <td>NaN</td>\n",
              "    </tr>\n",
              "    <tr>\n",
              "      <th>std</th>\n",
              "      <td>0.0</td>\n",
              "      <td>NaN</td>\n",
              "      <td>NaN</td>\n",
              "      <td>0.0</td>\n",
              "      <td>NaN</td>\n",
              "      <td>NaN</td>\n",
              "      <td>NaN</td>\n",
              "      <td>1.695429</td>\n",
              "      <td>NaN</td>\n",
              "      <td>NaN</td>\n",
              "      <td>0.119645</td>\n",
              "      <td>NaN</td>\n",
              "      <td>NaN</td>\n",
              "      <td>NaN</td>\n",
              "      <td>NaN</td>\n",
              "      <td>NaN</td>\n",
              "      <td>2.057795e+06</td>\n",
              "      <td>NaN</td>\n",
              "      <td>NaN</td>\n",
              "      <td>0.022406</td>\n",
              "      <td>70.734957</td>\n",
              "      <td>71.551482</td>\n",
              "      <td>0.277862</td>\n",
              "      <td>2635.142576</td>\n",
              "      <td>75.035244</td>\n",
              "      <td>82.125006</td>\n",
              "      <td>1.918220e+06</td>\n",
              "      <td>196.165918</td>\n",
              "      <td>565.689193</td>\n",
              "      <td>0.025741</td>\n",
              "      <td>0.196879</td>\n",
              "      <td>5163.134649</td>\n",
              "      <td>7131.877388</td>\n",
              "      <td>NaN</td>\n",
              "      <td>NaN</td>\n",
              "      <td>0.330955</td>\n",
              "      <td>0.0</td>\n",
              "      <td>16.648239</td>\n",
              "      <td>2432.439300</td>\n",
              "      <td>4607.417484</td>\n",
              "      <td>NaN</td>\n",
              "      <td>NaN</td>\n",
              "      <td>NaN</td>\n",
              "      <td>NaN</td>\n",
              "      <td>NaN</td>\n",
              "      <td>NaN</td>\n",
              "    </tr>\n",
              "    <tr>\n",
              "      <th>min</th>\n",
              "      <td>6.0</td>\n",
              "      <td>NaN</td>\n",
              "      <td>NaN</td>\n",
              "      <td>1.0</td>\n",
              "      <td>NaN</td>\n",
              "      <td>NaN</td>\n",
              "      <td>NaN</td>\n",
              "      <td>13.000000</td>\n",
              "      <td>NaN</td>\n",
              "      <td>NaN</td>\n",
              "      <td>0.000000</td>\n",
              "      <td>NaN</td>\n",
              "      <td>NaN</td>\n",
              "      <td>NaN</td>\n",
              "      <td>NaN</td>\n",
              "      <td>NaN</td>\n",
              "      <td>1.627545e+09</td>\n",
              "      <td>NaN</td>\n",
              "      <td>NaN</td>\n",
              "      <td>-0.900000</td>\n",
              "      <td>0.000000</td>\n",
              "      <td>0.000000</td>\n",
              "      <td>0.000000</td>\n",
              "      <td>12000.000000</td>\n",
              "      <td>0.000000</td>\n",
              "      <td>1.000000</td>\n",
              "      <td>0.000000e+00</td>\n",
              "      <td>0.000000</td>\n",
              "      <td>0.000000</td>\n",
              "      <td>0.000000</td>\n",
              "      <td>0.000000</td>\n",
              "      <td>7.000000</td>\n",
              "      <td>7.000000</td>\n",
              "      <td>NaN</td>\n",
              "      <td>NaN</td>\n",
              "      <td>0.000000</td>\n",
              "      <td>45000.0</td>\n",
              "      <td>0.000000</td>\n",
              "      <td>8000.000000</td>\n",
              "      <td>0.000000</td>\n",
              "      <td>NaN</td>\n",
              "      <td>NaN</td>\n",
              "      <td>NaN</td>\n",
              "      <td>NaN</td>\n",
              "      <td>NaN</td>\n",
              "      <td>NaN</td>\n",
              "    </tr>\n",
              "    <tr>\n",
              "      <th>25%</th>\n",
              "      <td>6.0</td>\n",
              "      <td>NaN</td>\n",
              "      <td>NaN</td>\n",
              "      <td>1.0</td>\n",
              "      <td>NaN</td>\n",
              "      <td>NaN</td>\n",
              "      <td>NaN</td>\n",
              "      <td>14.000000</td>\n",
              "      <td>NaN</td>\n",
              "      <td>NaN</td>\n",
              "      <td>0.000000</td>\n",
              "      <td>NaN</td>\n",
              "      <td>NaN</td>\n",
              "      <td>NaN</td>\n",
              "      <td>NaN</td>\n",
              "      <td>NaN</td>\n",
              "      <td>1.629838e+09</td>\n",
              "      <td>NaN</td>\n",
              "      <td>NaN</td>\n",
              "      <td>0.100000</td>\n",
              "      <td>0.000000</td>\n",
              "      <td>0.000000</td>\n",
              "      <td>0.000000</td>\n",
              "      <td>12000.000000</td>\n",
              "      <td>1.000000</td>\n",
              "      <td>2.000000</td>\n",
              "      <td>0.000000e+00</td>\n",
              "      <td>0.000000</td>\n",
              "      <td>0.000000</td>\n",
              "      <td>0.000000</td>\n",
              "      <td>0.000000</td>\n",
              "      <td>159.000000</td>\n",
              "      <td>449.000000</td>\n",
              "      <td>NaN</td>\n",
              "      <td>NaN</td>\n",
              "      <td>1.000000</td>\n",
              "      <td>45000.0</td>\n",
              "      <td>0.000000</td>\n",
              "      <td>8000.000000</td>\n",
              "      <td>280.000000</td>\n",
              "      <td>NaN</td>\n",
              "      <td>NaN</td>\n",
              "      <td>NaN</td>\n",
              "      <td>NaN</td>\n",
              "      <td>NaN</td>\n",
              "      <td>NaN</td>\n",
              "    </tr>\n",
              "    <tr>\n",
              "      <th>50%</th>\n",
              "      <td>6.0</td>\n",
              "      <td>NaN</td>\n",
              "      <td>NaN</td>\n",
              "      <td>1.0</td>\n",
              "      <td>NaN</td>\n",
              "      <td>NaN</td>\n",
              "      <td>NaN</td>\n",
              "      <td>15.000000</td>\n",
              "      <td>NaN</td>\n",
              "      <td>NaN</td>\n",
              "      <td>0.000000</td>\n",
              "      <td>NaN</td>\n",
              "      <td>NaN</td>\n",
              "      <td>NaN</td>\n",
              "      <td>NaN</td>\n",
              "      <td>NaN</td>\n",
              "      <td>1.631552e+09</td>\n",
              "      <td>NaN</td>\n",
              "      <td>NaN</td>\n",
              "      <td>0.100000</td>\n",
              "      <td>0.000000</td>\n",
              "      <td>0.000000</td>\n",
              "      <td>0.000000</td>\n",
              "      <td>12000.000000</td>\n",
              "      <td>2.000000</td>\n",
              "      <td>3.000000</td>\n",
              "      <td>2.683840e+05</td>\n",
              "      <td>0.000000</td>\n",
              "      <td>0.000000</td>\n",
              "      <td>0.000000</td>\n",
              "      <td>0.000000</td>\n",
              "      <td>655.000000</td>\n",
              "      <td>1789.000000</td>\n",
              "      <td>NaN</td>\n",
              "      <td>NaN</td>\n",
              "      <td>1.000000</td>\n",
              "      <td>45000.0</td>\n",
              "      <td>7.000000</td>\n",
              "      <td>8000.000000</td>\n",
              "      <td>584.000000</td>\n",
              "      <td>NaN</td>\n",
              "      <td>NaN</td>\n",
              "      <td>NaN</td>\n",
              "      <td>NaN</td>\n",
              "      <td>NaN</td>\n",
              "      <td>NaN</td>\n",
              "    </tr>\n",
              "    <tr>\n",
              "      <th>75%</th>\n",
              "      <td>6.0</td>\n",
              "      <td>NaN</td>\n",
              "      <td>NaN</td>\n",
              "      <td>1.0</td>\n",
              "      <td>NaN</td>\n",
              "      <td>NaN</td>\n",
              "      <td>NaN</td>\n",
              "      <td>17.000000</td>\n",
              "      <td>NaN</td>\n",
              "      <td>NaN</td>\n",
              "      <td>0.000000</td>\n",
              "      <td>NaN</td>\n",
              "      <td>NaN</td>\n",
              "      <td>NaN</td>\n",
              "      <td>NaN</td>\n",
              "      <td>NaN</td>\n",
              "      <td>1.633268e+09</td>\n",
              "      <td>NaN</td>\n",
              "      <td>NaN</td>\n",
              "      <td>0.100000</td>\n",
              "      <td>1.000000</td>\n",
              "      <td>1.000000</td>\n",
              "      <td>0.000000</td>\n",
              "      <td>12000.000000</td>\n",
              "      <td>3.000000</td>\n",
              "      <td>4.000000</td>\n",
              "      <td>1.830872e+06</td>\n",
              "      <td>251.000000</td>\n",
              "      <td>952.000000</td>\n",
              "      <td>0.000000</td>\n",
              "      <td>0.000000</td>\n",
              "      <td>11088.000000</td>\n",
              "      <td>13443.000000</td>\n",
              "      <td>NaN</td>\n",
              "      <td>NaN</td>\n",
              "      <td>1.000000</td>\n",
              "      <td>45000.0</td>\n",
              "      <td>18.000000</td>\n",
              "      <td>8000.000000</td>\n",
              "      <td>4024.000000</td>\n",
              "      <td>NaN</td>\n",
              "      <td>NaN</td>\n",
              "      <td>NaN</td>\n",
              "      <td>NaN</td>\n",
              "      <td>NaN</td>\n",
              "      <td>NaN</td>\n",
              "    </tr>\n",
              "    <tr>\n",
              "      <th>max</th>\n",
              "      <td>6.0</td>\n",
              "      <td>NaN</td>\n",
              "      <td>NaN</td>\n",
              "      <td>1.0</td>\n",
              "      <td>NaN</td>\n",
              "      <td>NaN</td>\n",
              "      <td>NaN</td>\n",
              "      <td>18.000000</td>\n",
              "      <td>NaN</td>\n",
              "      <td>NaN</td>\n",
              "      <td>6.000000</td>\n",
              "      <td>NaN</td>\n",
              "      <td>NaN</td>\n",
              "      <td>NaN</td>\n",
              "      <td>NaN</td>\n",
              "      <td>NaN</td>\n",
              "      <td>1.635234e+09</td>\n",
              "      <td>NaN</td>\n",
              "      <td>NaN</td>\n",
              "      <td>0.100000</td>\n",
              "      <td>8999.000000</td>\n",
              "      <td>9000.000000</td>\n",
              "      <td>1.000000</td>\n",
              "      <td>25000.000000</td>\n",
              "      <td>7025.000000</td>\n",
              "      <td>7027.000000</td>\n",
              "      <td>5.943445e+06</td>\n",
              "      <td>14741.000000</td>\n",
              "      <td>17949.000000</td>\n",
              "      <td>1.000000</td>\n",
              "      <td>1.000000</td>\n",
              "      <td>45550.000000</td>\n",
              "      <td>166105.000000</td>\n",
              "      <td>NaN</td>\n",
              "      <td>NaN</td>\n",
              "      <td>1.000000</td>\n",
              "      <td>45000.0</td>\n",
              "      <td>60.000000</td>\n",
              "      <td>20000.000000</td>\n",
              "      <td>127832.000000</td>\n",
              "      <td>NaN</td>\n",
              "      <td>NaN</td>\n",
              "      <td>NaN</td>\n",
              "      <td>NaN</td>\n",
              "      <td>NaN</td>\n",
              "      <td>NaN</td>\n",
              "    </tr>\n",
              "  </tbody>\n",
              "</table>\n",
              "</div>"
            ],
            "text/plain": [
              "       agent_id  client_device_id  ...  txn_ssl_time_ms  txn_ssl_time_sum_ms\n",
              "count  182500.0               0.0  ...              0.0                  0.0\n",
              "mean        6.0               NaN  ...              NaN                  NaN\n",
              "std         0.0               NaN  ...              NaN                  NaN\n",
              "min         6.0               NaN  ...              NaN                  NaN\n",
              "25%         6.0               NaN  ...              NaN                  NaN\n",
              "50%         6.0               NaN  ...              NaN                  NaN\n",
              "75%         6.0               NaN  ...              NaN                  NaN\n",
              "max         6.0               NaN  ...              NaN                  NaN\n",
              "\n",
              "[8 rows x 46 columns]"
            ]
          },
          "metadata": {},
          "execution_count": 17
        }
      ]
    },
    {
      "cell_type": "code",
      "metadata": {
        "colab": {
          "base_uri": "https://localhost:8080/"
        },
        "id": "JPFNo72RRah7",
        "outputId": "f9c24bb4-75c5-460b-abfd-ac1b44ec6d09"
      },
      "source": [
        "#Drop unwanted columns\n",
        "df.columns"
      ],
      "execution_count": null,
      "outputs": [
        {
          "output_type": "execute_result",
          "data": {
            "text/plain": [
              "Index(['agent_id', 'agent_name', 'application_cmdb_global_id',\n",
              "       'application_cmdb_id', 'application_name', 'application_owner',\n",
              "       'client_device_id', 'client_device_name', 'collection_data_flow',\n",
              "       'collection_policy_name', 'collection_type', 'customer_id',\n",
              "       'customer_name', 'endusergroup_cmdb_id', 'endusergroup_name',\n",
              "       'location_cmdb_global_id', 'location_cmdb_id', 'location_name',\n",
              "       'producer_instance_id', 'producer_instance_type',\n",
              "       'received_in_downtime', 'script_id', 'script_name', 'server_ip',\n",
              "       'server_name', 'status_id', 'subnet_cmdb_id', 'subnet_end_ip',\n",
              "       'subnet_name', 'subnet_start_ip', 'tenant_id', 'timestamp_utc_s',\n",
              "       'txn_cmdb_global_id', 'txn_cmdb_id', 'txn_description',\n",
              "       'txn_instance_id', 'txn_name', 'txn_availability_status',\n",
              "       'txn_connection_time_ms', 'txn_connection_time_sum_ms',\n",
              "       'txn_critical_hits_count', 'txn_critical_threshold_ms',\n",
              "       'txn_dns_time_ms', 'txn_dns_time_sum_ms', 'txn_download_size_b',\n",
              "       'txn_download_time_ms', 'txn_download_time_sum_ms', 'txn_error_count',\n",
              "       'txn_flow_cmdb_global_id', 'txn_flow_cmdb_id', 'txn_flow_name',\n",
              "       'txn_minor_hits_count', 'txn_net_fb_time_ms',\n",
              "       'txn_net_firstbuffer_time_sum_ms', 'txn_net_time_ms',\n",
              "       'txn_net_time_sum_ms', 'txn_ok_hits_count', 'txn_outlier_threshold_ms',\n",
              "       'txn_page_component_count', 'txn_poor_threshold_ms',\n",
              "       'txn_response_time_ms', 'txn_retry_time_ms', 'txn_retry_time_sum_ms',\n",
              "       'txn_server_fb_time_ms', 'txn_server_fb_time_sum_ms', 'txn_ssl_time_ms',\n",
              "       'txn_ssl_time_sum_ms'],\n",
              "      dtype='object')"
            ]
          },
          "metadata": {},
          "execution_count": 18
        }
      ]
    },
    {
      "cell_type": "code",
      "metadata": {
        "id": "WFq8dH_99PdH"
      },
      "source": [
        "df_new = df.drop(['agent_id', 'application_cmdb_global_id',\n",
        "       'application_cmdb_id', 'application_owner',\n",
        "       'client_device_id', 'client_device_name', 'collection_data_flow',\n",
        "       'collection_type', 'customer_id',\n",
        "       'customer_name', 'endusergroup_cmdb_id', 'endusergroup_name',\n",
        "       'location_cmdb_global_id', 'location_cmdb_id', 'location_name',\n",
        "       'producer_instance_id', 'producer_instance_type',\n",
        "       'received_in_downtime', 'script_id', 'script_name', 'server_ip',\n",
        "       'server_name', 'status_id', 'subnet_cmdb_id', 'subnet_end_ip',\n",
        "       'subnet_name', 'subnet_start_ip', 'tenant_id',\n",
        "       'txn_cmdb_global_id', 'txn_cmdb_id', 'txn_description',\n",
        "       'txn_connection_time_ms', 'txn_connection_time_sum_ms',\n",
        "       'txn_critical_hits_count', 'txn_critical_threshold_ms',\n",
        "       'txn_dns_time_ms', 'txn_dns_time_sum_ms', 'txn_download_size_b',\n",
        "       'txn_download_time_ms', 'txn_download_time_sum_ms', 'txn_error_count',\n",
        "       'txn_flow_cmdb_global_id', 'txn_flow_cmdb_id', 'txn_flow_name',\n",
        "       'txn_minor_hits_count', 'txn_net_fb_time_ms',\n",
        "       'txn_net_firstbuffer_time_sum_ms', 'txn_net_time_ms',\n",
        "       'txn_net_time_sum_ms', 'txn_ok_hits_count', 'txn_outlier_threshold_ms',\n",
        "       'txn_page_component_count', 'txn_poor_threshold_ms',\n",
        "       'txn_retry_time_ms', 'txn_retry_time_sum_ms',\n",
        "       'txn_server_fb_time_ms', 'txn_server_fb_time_sum_ms', 'txn_ssl_time_ms',\n",
        "       'txn_ssl_time_sum_ms','txn_instance_id'],axis=1)"
      ],
      "execution_count": null,
      "outputs": []
    },
    {
      "cell_type": "code",
      "metadata": {
        "colab": {
          "base_uri": "https://localhost:8080/"
        },
        "id": "ffq3kbxrRah8",
        "outputId": "b185411b-73f7-429a-f0ae-31b4b48cfefa"
      },
      "source": [
        "#Check for null values if available in dataset\n",
        "df_new.isnull().sum()"
      ],
      "execution_count": null,
      "outputs": [
        {
          "output_type": "execute_result",
          "data": {
            "text/plain": [
              "agent_name                 0\n",
              "application_name           0\n",
              "collection_policy_name     0\n",
              "timestamp_utc_s            0\n",
              "txn_name                   0\n",
              "txn_availability_status    0\n",
              "txn_response_time_ms       0\n",
              "dtype: int64"
            ]
          },
          "metadata": {},
          "execution_count": 20
        }
      ]
    },
    {
      "cell_type": "code",
      "metadata": {
        "colab": {
          "base_uri": "https://localhost:8080/",
          "height": 111
        },
        "id": "uSDX4szk9PdL",
        "outputId": "adf510f8-0f63-45e6-b714-c76a94e133d4"
      },
      "source": [
        "df_new.head(2)"
      ],
      "execution_count": null,
      "outputs": [
        {
          "output_type": "execute_result",
          "data": {
            "text/html": [
              "<div>\n",
              "<style scoped>\n",
              "    .dataframe tbody tr th:only-of-type {\n",
              "        vertical-align: middle;\n",
              "    }\n",
              "\n",
              "    .dataframe tbody tr th {\n",
              "        vertical-align: top;\n",
              "    }\n",
              "\n",
              "    .dataframe thead th {\n",
              "        text-align: right;\n",
              "    }\n",
              "</style>\n",
              "<table border=\"1\" class=\"dataframe\">\n",
              "  <thead>\n",
              "    <tr style=\"text-align: right;\">\n",
              "      <th></th>\n",
              "      <th>agent_name</th>\n",
              "      <th>application_name</th>\n",
              "      <th>collection_policy_name</th>\n",
              "      <th>timestamp_utc_s</th>\n",
              "      <th>txn_name</th>\n",
              "      <th>txn_availability_status</th>\n",
              "      <th>txn_response_time_ms</th>\n",
              "    </tr>\n",
              "  </thead>\n",
              "  <tbody>\n",
              "    <tr>\n",
              "      <th>0</th>\n",
              "      <td>opsb75</td>\n",
              "      <td>AOS Gateway</td>\n",
              "      <td>AOS_Cart_Load</td>\n",
              "      <td>1628769201</td>\n",
              "      <td>Add_Laptop_To_Cart</td>\n",
              "      <td>0.1</td>\n",
              "      <td>583</td>\n",
              "    </tr>\n",
              "    <tr>\n",
              "      <th>1</th>\n",
              "      <td>opsb75</td>\n",
              "      <td>AOS Gateway</td>\n",
              "      <td>AOS_Cart_Load</td>\n",
              "      <td>1628770093</td>\n",
              "      <td>Add_Laptop_To_Cart</td>\n",
              "      <td>0.1</td>\n",
              "      <td>583</td>\n",
              "    </tr>\n",
              "  </tbody>\n",
              "</table>\n",
              "</div>"
            ],
            "text/plain": [
              "  agent_name application_name  ... txn_availability_status  txn_response_time_ms\n",
              "0     opsb75      AOS Gateway  ...                     0.1                   583\n",
              "1     opsb75      AOS Gateway  ...                     0.1                   583\n",
              "\n",
              "[2 rows x 7 columns]"
            ]
          },
          "metadata": {},
          "execution_count": 21
        }
      ]
    },
    {
      "cell_type": "code",
      "metadata": {
        "colab": {
          "base_uri": "https://localhost:8080/"
        },
        "id": "1jsr3xqeRah_",
        "outputId": "2f391ebd-3668-48bf-b65e-c65be2019826"
      },
      "source": [
        "df_new.columns"
      ],
      "execution_count": null,
      "outputs": [
        {
          "output_type": "execute_result",
          "data": {
            "text/plain": [
              "Index(['agent_name', 'application_name', 'collection_policy_name',\n",
              "       'timestamp_utc_s', 'txn_name', 'txn_availability_status',\n",
              "       'txn_response_time_ms'],\n",
              "      dtype='object')"
            ]
          },
          "metadata": {},
          "execution_count": 22
        }
      ]
    },
    {
      "cell_type": "code",
      "metadata": {
        "colab": {
          "base_uri": "https://localhost:8080/"
        },
        "id": "gCsIdsWJRaiB",
        "outputId": "6cea92b0-6243-4d90-f667-bb6f2feb0ab7"
      },
      "source": [
        "df_new.shape"
      ],
      "execution_count": null,
      "outputs": [
        {
          "output_type": "execute_result",
          "data": {
            "text/plain": [
              "(182500, 7)"
            ]
          },
          "metadata": {},
          "execution_count": 23
        }
      ]
    },
    {
      "cell_type": "code",
      "metadata": {
        "colab": {
          "base_uri": "https://localhost:8080/"
        },
        "id": "oxSxMxuvRaiC",
        "outputId": "74578f42-876c-4361-b20b-ad80a5a664a2"
      },
      "source": [
        "df_new.txn_name.unique() #List the set of node for CPU Monitoring "
      ],
      "execution_count": null,
      "outputs": [
        {
          "output_type": "execute_result",
          "data": {
            "text/plain": [
              "array(['Add_Laptop_To_Cart', 'Add_Speakers_To_Cart',\n",
              "       'Checkout_To_Payment', 'Browse_Items', 'Login_Website',\n",
              "       'Select_Items', 'Add_Headphones_To_Cart', 'Open_WebPage'],\n",
              "      dtype=object)"
            ]
          },
          "metadata": {},
          "execution_count": 24
        }
      ]
    },
    {
      "cell_type": "code",
      "metadata": {
        "colab": {
          "base_uri": "https://localhost:8080/"
        },
        "id": "mEXVD9RLRaiE",
        "outputId": "a5d85557-c85a-4dfc-dc0f-3fa2bcdff68d"
      },
      "source": [
        "df_checkout = df_new[df_new['txn_name'] == 'Checkout_To_Payment']\n",
        "df_checkout.shape"
      ],
      "execution_count": null,
      "outputs": [
        {
          "output_type": "execute_result",
          "data": {
            "text/plain": [
              "(22783, 7)"
            ]
          },
          "metadata": {},
          "execution_count": 25
        }
      ]
    },
    {
      "cell_type": "code",
      "metadata": {
        "colab": {
          "base_uri": "https://localhost:8080/",
          "height": 111
        },
        "id": "4t4V_bjdRaiG",
        "outputId": "cb607680-8812-4c6f-d374-e9e203b46c92"
      },
      "source": [
        "df_checkout.head(2)\n"
      ],
      "execution_count": null,
      "outputs": [
        {
          "output_type": "execute_result",
          "data": {
            "text/html": [
              "<div>\n",
              "<style scoped>\n",
              "    .dataframe tbody tr th:only-of-type {\n",
              "        vertical-align: middle;\n",
              "    }\n",
              "\n",
              "    .dataframe tbody tr th {\n",
              "        vertical-align: top;\n",
              "    }\n",
              "\n",
              "    .dataframe thead th {\n",
              "        text-align: right;\n",
              "    }\n",
              "</style>\n",
              "<table border=\"1\" class=\"dataframe\">\n",
              "  <thead>\n",
              "    <tr style=\"text-align: right;\">\n",
              "      <th></th>\n",
              "      <th>agent_name</th>\n",
              "      <th>application_name</th>\n",
              "      <th>collection_policy_name</th>\n",
              "      <th>timestamp_utc_s</th>\n",
              "      <th>txn_name</th>\n",
              "      <th>txn_availability_status</th>\n",
              "      <th>txn_response_time_ms</th>\n",
              "    </tr>\n",
              "  </thead>\n",
              "  <tbody>\n",
              "    <tr>\n",
              "      <th>8429</th>\n",
              "      <td>opsb75</td>\n",
              "      <td>AOS Gateway</td>\n",
              "      <td>AOS_Cart_Load</td>\n",
              "      <td>1628769202</td>\n",
              "      <td>Checkout_To_Payment</td>\n",
              "      <td>0.1</td>\n",
              "      <td>106</td>\n",
              "    </tr>\n",
              "    <tr>\n",
              "      <th>8430</th>\n",
              "      <td>opsb75</td>\n",
              "      <td>AOS Gateway</td>\n",
              "      <td>AOS_Cart_Load</td>\n",
              "      <td>1628770094</td>\n",
              "      <td>Checkout_To_Payment</td>\n",
              "      <td>0.1</td>\n",
              "      <td>99</td>\n",
              "    </tr>\n",
              "  </tbody>\n",
              "</table>\n",
              "</div>"
            ],
            "text/plain": [
              "     agent_name application_name  ... txn_availability_status  txn_response_time_ms\n",
              "8429     opsb75      AOS Gateway  ...                     0.1                   106\n",
              "8430     opsb75      AOS Gateway  ...                     0.1                    99\n",
              "\n",
              "[2 rows x 7 columns]"
            ]
          },
          "metadata": {},
          "execution_count": 26
        }
      ]
    },
    {
      "cell_type": "code",
      "metadata": {
        "id": "VV9-hfPnRaiH",
        "colab": {
          "base_uri": "https://localhost:8080/"
        },
        "outputId": "ca90a6f1-bd7e-4a40-def5-68e81053aeab"
      },
      "source": [
        "#print (time.strftime('%Y-%m-%d %H:%M:%S', time.localtime(1619893855)))\n",
        "new_timestamp = []\n",
        "for index, row in df_checkout.iterrows():\n",
        "    new_timestamp = time.strftime('%Y-%m-%d %H:%M:%S', time.localtime(row['timestamp_utc_s']))\n",
        "    #print (new_timestamp)   \n",
        "    df_checkout.at[index,'Timestamp']=new_timestamp  #Changed due to version difference "
      ],
      "execution_count": null,
      "outputs": [
        {
          "output_type": "stream",
          "name": "stderr",
          "text": [
            "/usr/local/lib/python3.7/dist-packages/pandas/core/indexing.py:1596: SettingWithCopyWarning:\n",
            "\n",
            "\n",
            "A value is trying to be set on a copy of a slice from a DataFrame.\n",
            "Try using .loc[row_indexer,col_indexer] = value instead\n",
            "\n",
            "See the caveats in the documentation: https://pandas.pydata.org/pandas-docs/stable/user_guide/indexing.html#returning-a-view-versus-a-copy\n",
            "\n",
            "/usr/local/lib/python3.7/dist-packages/pandas/core/indexing.py:1763: SettingWithCopyWarning:\n",
            "\n",
            "\n",
            "A value is trying to be set on a copy of a slice from a DataFrame.\n",
            "Try using .loc[row_indexer,col_indexer] = value instead\n",
            "\n",
            "See the caveats in the documentation: https://pandas.pydata.org/pandas-docs/stable/user_guide/indexing.html#returning-a-view-versus-a-copy\n",
            "\n"
          ]
        }
      ]
    },
    {
      "cell_type": "code",
      "metadata": {
        "colab": {
          "base_uri": "https://localhost:8080/",
          "height": 204
        },
        "id": "1Kw472j3RaiI",
        "outputId": "4cef1c99-ade1-4d1d-dc4b-e7bb23ced65d"
      },
      "source": [
        "df_checkout.head(5)"
      ],
      "execution_count": null,
      "outputs": [
        {
          "output_type": "execute_result",
          "data": {
            "text/html": [
              "<div>\n",
              "<style scoped>\n",
              "    .dataframe tbody tr th:only-of-type {\n",
              "        vertical-align: middle;\n",
              "    }\n",
              "\n",
              "    .dataframe tbody tr th {\n",
              "        vertical-align: top;\n",
              "    }\n",
              "\n",
              "    .dataframe thead th {\n",
              "        text-align: right;\n",
              "    }\n",
              "</style>\n",
              "<table border=\"1\" class=\"dataframe\">\n",
              "  <thead>\n",
              "    <tr style=\"text-align: right;\">\n",
              "      <th></th>\n",
              "      <th>agent_name</th>\n",
              "      <th>application_name</th>\n",
              "      <th>collection_policy_name</th>\n",
              "      <th>timestamp_utc_s</th>\n",
              "      <th>txn_name</th>\n",
              "      <th>txn_availability_status</th>\n",
              "      <th>txn_response_time_ms</th>\n",
              "      <th>Timestamp</th>\n",
              "    </tr>\n",
              "  </thead>\n",
              "  <tbody>\n",
              "    <tr>\n",
              "      <th>8429</th>\n",
              "      <td>opsb75</td>\n",
              "      <td>AOS Gateway</td>\n",
              "      <td>AOS_Cart_Load</td>\n",
              "      <td>1628769202</td>\n",
              "      <td>Checkout_To_Payment</td>\n",
              "      <td>0.1</td>\n",
              "      <td>106</td>\n",
              "      <td>2021-08-12 11:53:22</td>\n",
              "    </tr>\n",
              "    <tr>\n",
              "      <th>8430</th>\n",
              "      <td>opsb75</td>\n",
              "      <td>AOS Gateway</td>\n",
              "      <td>AOS_Cart_Load</td>\n",
              "      <td>1628770094</td>\n",
              "      <td>Checkout_To_Payment</td>\n",
              "      <td>0.1</td>\n",
              "      <td>99</td>\n",
              "      <td>2021-08-12 12:08:14</td>\n",
              "    </tr>\n",
              "    <tr>\n",
              "      <th>8431</th>\n",
              "      <td>opsb75</td>\n",
              "      <td>AOS Gateway</td>\n",
              "      <td>AOS_Cart_Load</td>\n",
              "      <td>1628770996</td>\n",
              "      <td>Checkout_To_Payment</td>\n",
              "      <td>0.1</td>\n",
              "      <td>99</td>\n",
              "      <td>2021-08-12 12:23:16</td>\n",
              "    </tr>\n",
              "    <tr>\n",
              "      <th>8432</th>\n",
              "      <td>opsb75</td>\n",
              "      <td>AOS Gateway</td>\n",
              "      <td>AOS_Cart_Load</td>\n",
              "      <td>1628771896</td>\n",
              "      <td>Checkout_To_Payment</td>\n",
              "      <td>0.1</td>\n",
              "      <td>109</td>\n",
              "      <td>2021-08-12 12:38:16</td>\n",
              "    </tr>\n",
              "    <tr>\n",
              "      <th>8433</th>\n",
              "      <td>opsb75</td>\n",
              "      <td>AOS Gateway</td>\n",
              "      <td>AOS_Cart_Load</td>\n",
              "      <td>1628772787</td>\n",
              "      <td>Checkout_To_Payment</td>\n",
              "      <td>0.1</td>\n",
              "      <td>98</td>\n",
              "      <td>2021-08-12 12:53:07</td>\n",
              "    </tr>\n",
              "  </tbody>\n",
              "</table>\n",
              "</div>"
            ],
            "text/plain": [
              "     agent_name application_name  ... txn_response_time_ms            Timestamp\n",
              "8429     opsb75      AOS Gateway  ...                  106  2021-08-12 11:53:22\n",
              "8430     opsb75      AOS Gateway  ...                   99  2021-08-12 12:08:14\n",
              "8431     opsb75      AOS Gateway  ...                   99  2021-08-12 12:23:16\n",
              "8432     opsb75      AOS Gateway  ...                  109  2021-08-12 12:38:16\n",
              "8433     opsb75      AOS Gateway  ...                   98  2021-08-12 12:53:07\n",
              "\n",
              "[5 rows x 8 columns]"
            ]
          },
          "metadata": {},
          "execution_count": 28
        }
      ]
    },
    {
      "cell_type": "code",
      "metadata": {
        "id": "A5TFI8_TRaiJ",
        "colab": {
          "base_uri": "https://localhost:8080/"
        },
        "outputId": "56559508-3c1f-4e8c-8497-8dde87d357ad"
      },
      "source": [
        "#Convert to datetime datatype\n",
        "df_checkout['Timestamp'] = pd.to_datetime(df_checkout['Timestamp'])"
      ],
      "execution_count": null,
      "outputs": [
        {
          "output_type": "stream",
          "name": "stderr",
          "text": [
            "/usr/local/lib/python3.7/dist-packages/ipykernel_launcher.py:2: SettingWithCopyWarning:\n",
            "\n",
            "\n",
            "A value is trying to be set on a copy of a slice from a DataFrame.\n",
            "Try using .loc[row_indexer,col_indexer] = value instead\n",
            "\n",
            "See the caveats in the documentation: https://pandas.pydata.org/pandas-docs/stable/user_guide/indexing.html#returning-a-view-versus-a-copy\n",
            "\n"
          ]
        }
      ]
    },
    {
      "cell_type": "code",
      "metadata": {
        "colab": {
          "base_uri": "https://localhost:8080/"
        },
        "id": "-xT3y5tqRaiJ",
        "outputId": "31af289a-a5c1-48af-d08f-e926e8e2c42b"
      },
      "source": [
        "df_checkout.columns"
      ],
      "execution_count": null,
      "outputs": [
        {
          "output_type": "execute_result",
          "data": {
            "text/plain": [
              "Index(['agent_name', 'application_name', 'collection_policy_name',\n",
              "       'timestamp_utc_s', 'txn_name', 'txn_availability_status',\n",
              "       'txn_response_time_ms', 'Timestamp'],\n",
              "      dtype='object')"
            ]
          },
          "metadata": {},
          "execution_count": 30
        }
      ]
    },
    {
      "cell_type": "code",
      "metadata": {
        "colab": {
          "base_uri": "https://localhost:8080/",
          "height": 111
        },
        "id": "lFHpPG-6RaiL",
        "outputId": "ac92b8e1-2f7d-4dc9-e5bb-a48c3f12cb88"
      },
      "source": [
        "df_checkout.tail(2)"
      ],
      "execution_count": null,
      "outputs": [
        {
          "output_type": "execute_result",
          "data": {
            "text/html": [
              "<div>\n",
              "<style scoped>\n",
              "    .dataframe tbody tr th:only-of-type {\n",
              "        vertical-align: middle;\n",
              "    }\n",
              "\n",
              "    .dataframe tbody tr th {\n",
              "        vertical-align: top;\n",
              "    }\n",
              "\n",
              "    .dataframe thead th {\n",
              "        text-align: right;\n",
              "    }\n",
              "</style>\n",
              "<table border=\"1\" class=\"dataframe\">\n",
              "  <thead>\n",
              "    <tr style=\"text-align: right;\">\n",
              "      <th></th>\n",
              "      <th>agent_name</th>\n",
              "      <th>application_name</th>\n",
              "      <th>collection_policy_name</th>\n",
              "      <th>timestamp_utc_s</th>\n",
              "      <th>txn_name</th>\n",
              "      <th>txn_availability_status</th>\n",
              "      <th>txn_response_time_ms</th>\n",
              "      <th>Timestamp</th>\n",
              "    </tr>\n",
              "  </thead>\n",
              "  <tbody>\n",
              "    <tr>\n",
              "      <th>182496</th>\n",
              "      <td>opsb75</td>\n",
              "      <td>AOS Web Shop Monaco</td>\n",
              "      <td>AOS_Cart_Load</td>\n",
              "      <td>1635233284</td>\n",
              "      <td>Checkout_To_Payment</td>\n",
              "      <td>0.1</td>\n",
              "      <td>155</td>\n",
              "      <td>2021-10-26 07:28:04</td>\n",
              "    </tr>\n",
              "    <tr>\n",
              "      <th>182499</th>\n",
              "      <td>opsb75</td>\n",
              "      <td>AOS Web Shop New Delhi</td>\n",
              "      <td>AOS_Cart_Load</td>\n",
              "      <td>1635233934</td>\n",
              "      <td>Checkout_To_Payment</td>\n",
              "      <td>0.1</td>\n",
              "      <td>128</td>\n",
              "      <td>2021-10-26 07:38:54</td>\n",
              "    </tr>\n",
              "  </tbody>\n",
              "</table>\n",
              "</div>"
            ],
            "text/plain": [
              "       agent_name  ...           Timestamp\n",
              "182496     opsb75  ... 2021-10-26 07:28:04\n",
              "182499     opsb75  ... 2021-10-26 07:38:54\n",
              "\n",
              "[2 rows x 8 columns]"
            ]
          },
          "metadata": {},
          "execution_count": 31
        }
      ]
    },
    {
      "cell_type": "code",
      "metadata": {
        "colab": {
          "base_uri": "https://localhost:8080/"
        },
        "id": "1pVkMZ4i9PdX",
        "outputId": "ec2fe142-46cd-4932-8a08-e04397a378c2"
      },
      "source": [
        "df_checkout.agent_name.unique() #Validate for single BPM agent data only "
      ],
      "execution_count": null,
      "outputs": [
        {
          "output_type": "execute_result",
          "data": {
            "text/plain": [
              "array(['opsb75'], dtype=object)"
            ]
          },
          "metadata": {},
          "execution_count": 32
        }
      ]
    },
    {
      "cell_type": "code",
      "metadata": {
        "id": "X7iZV4OVRaiM"
      },
      "source": [
        "df_checkout = df_checkout.drop(['timestamp_utc_s'],axis=1)"
      ],
      "execution_count": null,
      "outputs": []
    },
    {
      "cell_type": "code",
      "metadata": {
        "id": "x8fL19vnRaiM"
      },
      "source": [
        "df_checkout = df_checkout[['Timestamp', 'txn_response_time_ms']]"
      ],
      "execution_count": null,
      "outputs": []
    },
    {
      "cell_type": "code",
      "metadata": {
        "id": "heQ94hX5RaiN"
      },
      "source": [
        "df_checkout.to_csv(\"bpm_cleaned_data.csv\",index=False)"
      ],
      "execution_count": null,
      "outputs": []
    },
    {
      "cell_type": "code",
      "metadata": {
        "colab": {
          "base_uri": "https://localhost:8080/"
        },
        "id": "J-nXxY2tRaiO",
        "outputId": "6d15f003-4aba-4bc6-da9c-a39308e9e1be"
      },
      "source": [
        "df_checkout.shape"
      ],
      "execution_count": null,
      "outputs": [
        {
          "output_type": "execute_result",
          "data": {
            "text/plain": [
              "(22783, 2)"
            ]
          },
          "metadata": {},
          "execution_count": 36
        }
      ]
    },
    {
      "cell_type": "code",
      "metadata": {
        "colab": {
          "base_uri": "https://localhost:8080/",
          "height": 111
        },
        "id": "1_nzfO0tRaiP",
        "outputId": "58f870d9-9ac1-4fea-f122-94e698b2a130"
      },
      "source": [
        "df_checkout.tail(2)\n"
      ],
      "execution_count": null,
      "outputs": [
        {
          "output_type": "execute_result",
          "data": {
            "text/html": [
              "<div>\n",
              "<style scoped>\n",
              "    .dataframe tbody tr th:only-of-type {\n",
              "        vertical-align: middle;\n",
              "    }\n",
              "\n",
              "    .dataframe tbody tr th {\n",
              "        vertical-align: top;\n",
              "    }\n",
              "\n",
              "    .dataframe thead th {\n",
              "        text-align: right;\n",
              "    }\n",
              "</style>\n",
              "<table border=\"1\" class=\"dataframe\">\n",
              "  <thead>\n",
              "    <tr style=\"text-align: right;\">\n",
              "      <th></th>\n",
              "      <th>Timestamp</th>\n",
              "      <th>txn_response_time_ms</th>\n",
              "    </tr>\n",
              "  </thead>\n",
              "  <tbody>\n",
              "    <tr>\n",
              "      <th>182496</th>\n",
              "      <td>2021-10-26 07:28:04</td>\n",
              "      <td>155</td>\n",
              "    </tr>\n",
              "    <tr>\n",
              "      <th>182499</th>\n",
              "      <td>2021-10-26 07:38:54</td>\n",
              "      <td>128</td>\n",
              "    </tr>\n",
              "  </tbody>\n",
              "</table>\n",
              "</div>"
            ],
            "text/plain": [
              "                 Timestamp  txn_response_time_ms\n",
              "182496 2021-10-26 07:28:04                   155\n",
              "182499 2021-10-26 07:38:54                   128"
            ]
          },
          "metadata": {},
          "execution_count": 37
        }
      ]
    },
    {
      "cell_type": "code",
      "metadata": {
        "id": "VhHq9MvD9Pda"
      },
      "source": [
        "df_process = pd.read_csv('bpm_cleaned_data.csv')"
      ],
      "execution_count": null,
      "outputs": []
    },
    {
      "cell_type": "code",
      "metadata": {
        "colab": {
          "base_uri": "https://localhost:8080/",
          "height": 111
        },
        "id": "dBBxd_jn9Pdb",
        "outputId": "ffb151a6-7c6e-46d7-8670-c25a02eb11f4"
      },
      "source": [
        "df_process.head(2)"
      ],
      "execution_count": null,
      "outputs": [
        {
          "output_type": "execute_result",
          "data": {
            "text/html": [
              "<div>\n",
              "<style scoped>\n",
              "    .dataframe tbody tr th:only-of-type {\n",
              "        vertical-align: middle;\n",
              "    }\n",
              "\n",
              "    .dataframe tbody tr th {\n",
              "        vertical-align: top;\n",
              "    }\n",
              "\n",
              "    .dataframe thead th {\n",
              "        text-align: right;\n",
              "    }\n",
              "</style>\n",
              "<table border=\"1\" class=\"dataframe\">\n",
              "  <thead>\n",
              "    <tr style=\"text-align: right;\">\n",
              "      <th></th>\n",
              "      <th>Timestamp</th>\n",
              "      <th>txn_response_time_ms</th>\n",
              "    </tr>\n",
              "  </thead>\n",
              "  <tbody>\n",
              "    <tr>\n",
              "      <th>0</th>\n",
              "      <td>2021-08-12 11:53:22</td>\n",
              "      <td>106</td>\n",
              "    </tr>\n",
              "    <tr>\n",
              "      <th>1</th>\n",
              "      <td>2021-08-12 12:08:14</td>\n",
              "      <td>99</td>\n",
              "    </tr>\n",
              "  </tbody>\n",
              "</table>\n",
              "</div>"
            ],
            "text/plain": [
              "             Timestamp  txn_response_time_ms\n",
              "0  2021-08-12 11:53:22                   106\n",
              "1  2021-08-12 12:08:14                    99"
            ]
          },
          "metadata": {},
          "execution_count": 39
        }
      ]
    },
    {
      "cell_type": "code",
      "metadata": {
        "id": "4a3yU1bYRaiQ"
      },
      "source": [
        "#Check for unrealistic values like response time as null or 0 or less than 0\n",
        "#Get the list of records having 0 as response time\n",
        "df_process.drop(df_process[df_process['txn_response_time_ms'] <= 0].index, inplace = True)\n",
        "    \n",
        "    "
      ],
      "execution_count": null,
      "outputs": []
    },
    {
      "cell_type": "code",
      "metadata": {
        "colab": {
          "base_uri": "https://localhost:8080/",
          "height": 303
        },
        "id": "-ZT7EMRDRaiQ",
        "outputId": "950f6460-6b90-4978-c473-38bf1f8f7347"
      },
      "source": [
        "#Remove Outliers\n",
        "sns.set(style=\"whitegrid\")\n",
        "sns.boxplot(x=df_process['txn_response_time_ms'])"
      ],
      "execution_count": null,
      "outputs": [
        {
          "output_type": "execute_result",
          "data": {
            "text/plain": [
              "<matplotlib.axes._subplots.AxesSubplot at 0x7f3baee60490>"
            ]
          },
          "metadata": {},
          "execution_count": 41
        },
        {
          "output_type": "display_data",
          "data": {
            "image/png": "[encoded data removed]",
            "text/plain": [
              "<Figure size 432x288 with 1 Axes>"
            ]
          },
          "metadata": {}
        }
      ]
    },
    {
      "cell_type": "code",
      "metadata": {
        "colab": {
          "base_uri": "https://localhost:8080/"
        },
        "id": "f5QP3mOeRaiR",
        "outputId": "9468b8c8-93ef-4f7a-fd0e-e05edb23072f"
      },
      "source": [
        "Q1 = df_process['txn_response_time_ms'].quantile(0.25)\n",
        "Q3 = df_process['txn_response_time_ms'].quantile(0.75)\n",
        "IQR = Q3 - Q1\n",
        "print(\"Inter Quartile Range :\",IQR)\n"
      ],
      "execution_count": null,
      "outputs": [
        {
          "output_type": "stream",
          "name": "stdout",
          "text": [
            "Inter Quartile Range : 12.0\n"
          ]
        }
      ]
    },
    {
      "cell_type": "code",
      "metadata": {
        "colab": {
          "base_uri": "https://localhost:8080/"
        },
        "id": "PpgCfmyRRaiU",
        "outputId": "7f00a283-8cc1-4f12-c044-e65c6088f0dd"
      },
      "source": [
        "threshold = 3\n",
        "mean = np.mean(df_process['txn_response_time_ms'])\n",
        "std = np.std(df_process['txn_response_time_ms'])\n",
        "outlier = []\n",
        "count=0\n",
        "datetime = []\n",
        "response = []\n",
        "print ('Dataset size of outlier check',len(df_process['txn_response_time_ms']))\n",
        "#for i in df_login['txn_response_time_ms']:\n",
        "for idx, row in df_process.iterrows():\n",
        "    i=row['txn_response_time_ms']\n",
        "    z = (i-mean)/std\n",
        "    if z > threshold:\n",
        "        outlier.append(i)\n",
        "        count=count+1\n",
        "    else:\n",
        "        datetime.append(row['Timestamp'])\n",
        "        response.append(row['txn_response_time_ms'])   \n",
        "        \n",
        "#Consider this data for further processing ,create outlier free dataset\n",
        "df_out = pd.DataFrame(datetime,columns=['Timestamp'])\n",
        "df_out['txn_response_time_ms']=response\n",
        "#print(df_out.head())\n",
        "print ('Total Outliers :', count)\n",
        "#print('outlier in dataset is', outlier)\n",
        "print (\"Total output dataset \", df_out.shape)"
      ],
      "execution_count": null,
      "outputs": [
        {
          "output_type": "stream",
          "name": "stdout",
          "text": [
            "Dataset size of outlier check 22775\n",
            "Total Outliers : 153\n",
            "Total output dataset  (22622, 2)\n"
          ]
        }
      ]
    },
    {
      "cell_type": "code",
      "metadata": {
        "colab": {
          "base_uri": "https://localhost:8080/",
          "height": 303
        },
        "id": "3L78Y2ZJRaiV",
        "outputId": "c16f133c-d310-4ed3-925e-158c3684fde2"
      },
      "source": [
        "#Remove Outliers\n",
        "sns.set(style=\"whitegrid\")\n",
        "sns.boxplot(x=df_out['txn_response_time_ms'])\n"
      ],
      "execution_count": null,
      "outputs": [
        {
          "output_type": "execute_result",
          "data": {
            "text/plain": [
              "<matplotlib.axes._subplots.AxesSubplot at 0x7f3bae5a4210>"
            ]
          },
          "metadata": {},
          "execution_count": 44
        },
        {
          "output_type": "display_data",
          "data": {
            "image/png": "[encoded data removed]",
            "text/plain": [
              "<Figure size 432x288 with 1 Axes>"
            ]
          },
          "metadata": {}
        }
      ]
    },
    {
      "cell_type": "code",
      "metadata": {
        "colab": {
          "base_uri": "https://localhost:8080/",
          "height": 303
        },
        "id": "uoAYQnEZRaiZ",
        "outputId": "1f5c0b6e-179a-4891-c0fc-c5d89628161f"
      },
      "source": [
        "#Remove Outliers\n",
        "df_out1 = df_out #Ignoring second outlier detection\n",
        "sns.set(style=\"whitegrid\")\n",
        "sns.boxplot(x=df_out1['txn_response_time_ms'])"
      ],
      "execution_count": null,
      "outputs": [
        {
          "output_type": "execute_result",
          "data": {
            "text/plain": [
              "<matplotlib.axes._subplots.AxesSubplot at 0x7f3baf581710>"
            ]
          },
          "metadata": {},
          "execution_count": 45
        },
        {
          "output_type": "display_data",
          "data": {
            "image/png": "[encoded data removed]",
            "text/plain": [
              "<Figure size 432x288 with 1 Axes>"
            ]
          },
          "metadata": {}
        }
      ]
    },
    {
      "cell_type": "code",
      "metadata": {
        "colab": {
          "base_uri": "https://localhost:8080/"
        },
        "id": "4Ge0rahV9Pdf",
        "outputId": "2dc918fc-751b-40ab-93f8-efa1c2ec3125"
      },
      "source": [
        "df_out1.info()\n"
      ],
      "execution_count": null,
      "outputs": [
        {
          "output_type": "stream",
          "name": "stdout",
          "text": [
            "<class 'pandas.core.frame.DataFrame'>\n",
            "RangeIndex: 22622 entries, 0 to 22621\n",
            "Data columns (total 2 columns):\n",
            " #   Column                Non-Null Count  Dtype \n",
            "---  ------                --------------  ----- \n",
            " 0   Timestamp             22622 non-null  object\n",
            " 1   txn_response_time_ms  22622 non-null  int64 \n",
            "dtypes: int64(1), object(1)\n",
            "memory usage: 353.6+ KB\n"
          ]
        }
      ]
    },
    {
      "cell_type": "code",
      "metadata": {
        "colab": {
          "base_uri": "https://localhost:8080/"
        },
        "id": "diaw5mXwRaiZ",
        "outputId": "5bb4422b-034f-4444-e07b-c7dcb0eccd60"
      },
      "source": [
        "DAYS_FOR_TEST = 5\n",
        "from datetime import datetime\n",
        "new_timestamp = time.strftime('%Y-%m-%d %H:%M:%S', time.localtime())\n",
        "print (\"Model is running at          : \",new_timestamp )\n",
        "\n",
        "#What if data stopped well before the current date , handle it now \n",
        "#dt = pd.Timestamp(date.today() - timedelta(DAYS_FOR_TEST))\n",
        "\n",
        "#print (\"Last record for given dataset\", df_out1['Timestamp'].tail(1))\n",
        "lastrecord = df_out1['Timestamp'].tail(1).to_string(index=False)\n",
        "lastrecord = lastrecord.strip()\n",
        "lastdate = datetime.strptime(lastrecord,'%Y-%m-%d %H:%M:%S')\n",
        "print (\"Last record found in dataset : \",lastdate)\n",
        "dt = lastdate - timedelta(DAYS_FOR_TEST)\n",
        "print(\"Days considered for test data: \",DAYS_FOR_TEST)\n",
        "print (\"Training data starts from    : \",df_out1['Timestamp'].head(1).to_string(index=False))\n",
        "print(\"Test data starts from        : \",dt)\n",
        "\n",
        "# splitting the dataframe into 2 parts\n",
        "# on basis of 'Timestamp' column values\n",
        "\n",
        "#Get training & test dataset\n",
        "\n",
        "#Convert to datetime datatype\n",
        "df_out1['Timestamp'] = pd.to_datetime(df_out1['Timestamp'])\n",
        "\n",
        "\n",
        "mask = df_out1['Timestamp'] < dt\n",
        "df_train = df_out1[mask]\n",
        "print (\"Complete Dataset\", df_out1.shape)\n",
        "\n",
        "print (\"Training Dataset\",df_train.shape)  \n",
        "# invert the boolean values\n",
        "df_test = df_out1[~mask]\n",
        "  \n",
        "# printing df1\n",
        "print (\"Test Dataset\", df_test.shape)\n"
      ],
      "execution_count": null,
      "outputs": [
        {
          "output_type": "stream",
          "name": "stdout",
          "text": [
            "Model is running at          :  2021-10-31 11:03:06\n",
            "Last record found in dataset :  2021-10-26 07:38:54\n",
            "Days considered for test data:  5\n",
            "Training data starts from    :   2021-08-12 11:53:22\n",
            "Test data starts from        :  2021-10-21 07:38:54\n",
            "Complete Dataset (22622, 2)\n",
            "Training Dataset (21521, 2)\n",
            "Test Dataset (1101, 2)\n"
          ]
        }
      ]
    },
    {
      "cell_type": "code",
      "metadata": {
        "colab": {
          "base_uri": "https://localhost:8080/"
        },
        "id": "KZClawUWRaib",
        "outputId": "2422cbb2-c36c-44b1-9683-8e7d58012998"
      },
      "source": [
        "df_train.shape"
      ],
      "execution_count": null,
      "outputs": [
        {
          "output_type": "execute_result",
          "data": {
            "text/plain": [
              "(21521, 2)"
            ]
          },
          "metadata": {},
          "execution_count": 48
        }
      ]
    },
    {
      "cell_type": "code",
      "metadata": {
        "colab": {
          "base_uri": "https://localhost:8080/"
        },
        "id": "-YQmsTlsRaib",
        "outputId": "c2359612-48db-463d-e575-a191f16fe480"
      },
      "source": [
        "df_test.shape"
      ],
      "execution_count": null,
      "outputs": [
        {
          "output_type": "execute_result",
          "data": {
            "text/plain": [
              "(1101, 2)"
            ]
          },
          "metadata": {},
          "execution_count": 49
        }
      ]
    },
    {
      "cell_type": "code",
      "metadata": {
        "id": "as0Hw8sQRaic"
      },
      "source": [
        "df_train.to_csv(\"drive/My Drive/ML_files/Training_dataset.csv\",index=False)\n",
        "df_test.to_csv(\"drive/My Drive/ML_files/Test_dataset.csv\",index=False)\n",
        "\n",
        "#df_train.to_csv(\"Training_dataset.csv\",index=False)\n",
        "#df_test.to_csv(\"Test_dataset.csv\",index=False)"
      ],
      "execution_count": null,
      "outputs": []
    },
    {
      "cell_type": "code",
      "metadata": {
        "colab": {
          "base_uri": "https://localhost:8080/"
        },
        "id": "THWx1GhdRaie",
        "outputId": "6137e513-827e-492c-8a31-f693be16351b"
      },
      "source": [
        "# load data\n",
        "#Read the dataset from GDrive\n",
        "#Inputfile = 'Training_dataset.csv'\n",
        "Inputfile = 'drive/My Drive/ML_files/Training_dataset.csv'\n",
        "df = pd.read_csv(Inputfile)\n",
        "\n",
        "#df = pd.read_csv('Training_dataset.csv')\n",
        "\n",
        "df.head()\n",
        "# summarize shape\n",
        "print(df.shape)\n",
        "# show first few rows\n",
        "df = df[['Timestamp', 'txn_response_time_ms']]\n",
        "df['Timestamp']=pd.to_datetime(df['Timestamp'])\n",
        "print(df.head())"
      ],
      "execution_count": null,
      "outputs": [
        {
          "output_type": "stream",
          "name": "stdout",
          "text": [
            "(21521, 2)\n",
            "            Timestamp  txn_response_time_ms\n",
            "0 2021-08-12 11:53:22                   106\n",
            "1 2021-08-12 12:08:14                    99\n",
            "2 2021-08-12 12:23:16                    99\n",
            "3 2021-08-12 12:38:16                   109\n",
            "4 2021-08-12 12:53:07                    98\n"
          ]
        }
      ]
    },
    {
      "cell_type": "code",
      "metadata": {
        "id": "JWn3U6csg0S-"
      },
      "source": [
        "df = df.drop(columns=['Timestamp'],axis=1)\n"
      ],
      "execution_count": null,
      "outputs": []
    },
    {
      "cell_type": "code",
      "metadata": {
        "colab": {
          "base_uri": "https://localhost:8080/",
          "height": 268
        },
        "id": "a7T3GhEWhfM0",
        "outputId": "7d54e086-ea62-4326-8792-673f7b51282b"
      },
      "source": [
        "pyplot.plot(df)\n",
        "pyplot.show()"
      ],
      "execution_count": null,
      "outputs": [
        {
          "output_type": "display_data",
          "data": {
            "image/png": "[encoded data removed]",
            "text/plain": [
              "<Figure size 432x288 with 1 Axes>"
            ]
          },
          "metadata": {}
        }
      ]
    },
    {
      "cell_type": "code",
      "metadata": {
        "id": "KcDSvygghumo"
      },
      "source": [
        "# fix random seed for reproducibility\n",
        "np.random.seed(7)"
      ],
      "execution_count": null,
      "outputs": []
    },
    {
      "cell_type": "markdown",
      "metadata": {
        "id": "MvrDQJh89Pdk"
      },
      "source": [
        "LSTMs are sensitive to the scale of the input data, specifically when the sigmoid (default) or tanh activation functions are used. It can be a good practice to rescale the data to the range of 0-to-1, also called normalizing. We can easily normalize the dataset using the MinMaxScaler preprocessing class from the scikit-learn library."
      ]
    },
    {
      "cell_type": "code",
      "metadata": {
        "id": "uCGrhdNzh2Km"
      },
      "source": [
        "# normalize the dataset\n",
        "scaler = MinMaxScaler(feature_range=(0, 1))\n",
        "df = scaler.fit_transform(df)\n"
      ],
      "execution_count": null,
      "outputs": []
    },
    {
      "cell_type": "markdown",
      "metadata": {
        "id": "VORDGMiv9Pdo"
      },
      "source": [
        "With time series data, the sequence of values is important. A simple method that we can use is to split the ordered dataset into train and test datasets. The code below calculates the index of the split point and separates the data into the training datasets with 67% of the observations that we can use to train our model, leaving the remaining 33% for testing the model."
      ]
    },
    {
      "cell_type": "code",
      "metadata": {
        "colab": {
          "base_uri": "https://localhost:8080/"
        },
        "id": "Gvsw7corfh_S",
        "outputId": "7dae9e03-407a-496a-d87b-9b4405b1d412"
      },
      "source": [
        "# split into train and test sets\n",
        "train_size = int(len(df) * 0.67)\n",
        "test_size = len(df) - train_size\n",
        "print (\"Total datasize: \", len(df))\n",
        "print (\"Train Size    : \",train_size)\n",
        "print (\"Test Size     : \",test_size)\n",
        "train, test = df[0:train_size,:], df[train_size:len(df),:]\n",
        "#print(len(train), len(test))"
      ],
      "execution_count": null,
      "outputs": [
        {
          "output_type": "stream",
          "name": "stdout",
          "text": [
            "Total datasize:  21521\n",
            "Train Size    :  14419\n",
            "Test Size     :  7102\n"
          ]
        }
      ]
    },
    {
      "cell_type": "markdown",
      "metadata": {
        "id": "bGMJ7d2o9Pdp"
      },
      "source": [
        "Now we can define a function to create a new dataset, as described above.\n",
        "\n",
        "The function takes two arguments: the dataset, which is a NumPy array that we want to convert into a dataset, and the look_back, which is the number of previous time steps to use as input variables to predict the next time period — in this case defaulted to 1.\n",
        "\n",
        "This default will create a dataset where X is the number of passengers at a given time (t) and Y is the number of passengers at the next time (t + 1).\n",
        "\n",
        "It can be configured, and we will by constructing a differently shaped dataset in the next section.\n",
        "\n",
        "Source:\n",
        "https://machinelearningmastery.com/time-series-prediction-lstm-recurrent-neural-networks-python-keras/\n"
      ]
    },
    {
      "cell_type": "code",
      "metadata": {
        "id": "XzQUz3Xoiopd"
      },
      "source": [
        "# convert an array of values into a dataset matrix\n",
        "def create_dataset(dataset, look_back=1):\n",
        "\tdataX, dataY = [], []\n",
        "\tfor i in range(len(dataset)-look_back-1):\n",
        "\t\ta = dataset[i:(i+look_back), 0]\n",
        "\t\tdataX.append(a)\n",
        "\t\tdataY.append(dataset[i + look_back, 0])\n",
        "\treturn np.array(dataX), np.array(dataY)"
      ],
      "execution_count": null,
      "outputs": []
    },
    {
      "cell_type": "code",
      "metadata": {
        "id": "xgFvTudYi260"
      },
      "source": [
        "# reshape into X=t and Y=t+1\n",
        "look_back = 1\n",
        "trainX, trainY = create_dataset(train, look_back)\n",
        "testX, testY = create_dataset(test, look_back)"
      ],
      "execution_count": null,
      "outputs": []
    },
    {
      "cell_type": "markdown",
      "metadata": {
        "id": "0DBDKfqD9Pdr"
      },
      "source": [
        "The LSTM network expects the input data (X) to be provided with a specific array structure in the form of: [samples, time steps, features].\n",
        "\n",
        "Currently, our data is in the form: [samples, features] and we are framing the problem as one time step for each sample. We can transform the prepared train and test input data into the expected structure using numpy.reshape() as follows:"
      ]
    },
    {
      "cell_type": "code",
      "metadata": {
        "id": "8IQQJg9eja-g",
        "colab": {
          "base_uri": "https://localhost:8080/"
        },
        "outputId": "61f837c6-6c9a-46e2-d08e-0a35aaaf6adf"
      },
      "source": [
        "# reshape input to be [samples, time steps, features]\n",
        "#trainX = np.reshape(trainX, (trainX.shape[0], 1,trainX.shape[1]))\n",
        "#testX = np.reshape(testX, (testX.shape[0], 1, testX.shape[1]))\n",
        "\n",
        "\n",
        "#Using time steps \n",
        "#Reshape training data into <total length>,<timesteps>,<Total features in data> format\n",
        "trainX = np.reshape(trainX, (trainX.shape[0], trainX.shape[1], 1))\n",
        "testX = np.reshape(testX, (testX.shape[0], testX.shape[1], 1))\n",
        "\n",
        "print (trainX.shape[0])\n",
        "print(trainX.shape[1])\n",
        "print (trainX.shape)"
      ],
      "execution_count": null,
      "outputs": [
        {
          "output_type": "stream",
          "name": "stdout",
          "text": [
            "14417\n",
            "1\n",
            "(14417, 1, 1)\n"
          ]
        }
      ]
    },
    {
      "cell_type": "markdown",
      "metadata": {
        "id": "09CT-sLV9Pds"
      },
      "source": [
        "We are now ready to design and fit our LSTM network for this problem.\n",
        "\n",
        "The network has a visible layer with 1 input, a hidden layer with 4 LSTM blocks or neurons, and an output layer that makes a single value prediction. The default sigmoid activation function is used for the LSTM blocks. The network is trained for 100 epochs and a batch size of 1 is used."
      ]
    },
    {
      "cell_type": "code",
      "metadata": {
        "colab": {
          "base_uri": "https://localhost:8080/"
        },
        "id": "OJB43ZZcjpo0",
        "outputId": "05641097-9be5-4e00-ce3f-75c348fbecfc"
      },
      "source": [
        "#create and fit the LSTM network\n",
        "#network has a visible layer with 1 input.\n",
        "#A hidden layer with 4 LSTM blocks or neurons, \n",
        "#An output layer that makes a single value prediction. \n",
        "#The default sigmoid activation function is used for the LSTM blocks. The network is trained for 10-100 epochs and a batch size of 1 is used.\n",
        "batch_size = 1\n",
        "lstm_model = Sequential()\n",
        "#model.add(LSTM(4, input_shape=(look_back,1)))\n",
        "#model.add(LSTM(4, batch_input_shape=(batch_size, look_back, 1), stateful=True))\n",
        "lstm_model.add(LSTM(4, batch_input_shape=(batch_size, look_back, 1), stateful=True, return_sequences=True)) #Stacked LSTMs with Memory Between Batches\n",
        "lstm_model.add(LSTM(4, batch_input_shape=(batch_size, look_back, 1), stateful=True))\n",
        "lstm_model.add(Dense(1))\n",
        "lstm_model.compile(loss='mean_squared_error', optimizer='adam')\n",
        "for i in range(5):\n",
        "    lstm_model.fit(trainX, trainY, epochs=1, batch_size=batch_size, verbose=2, shuffle=False)\n",
        "    lstm_model.reset_states() #To get stateful LSTM "
      ],
      "execution_count": null,
      "outputs": [
        {
          "output_type": "stream",
          "name": "stdout",
          "text": [
            "14417/14417 - 64s - loss: 0.0021\n",
            "14417/14417 - 56s - loss: 0.0020\n",
            "14417/14417 - 56s - loss: 0.0020\n",
            "14417/14417 - 55s - loss: 0.0020\n",
            "14417/14417 - 55s - loss: 0.0020\n"
          ]
        }
      ]
    },
    {
      "cell_type": "markdown",
      "metadata": {
        "id": "eR4huWrc9Pdu"
      },
      "source": [
        "Note that we invert the predictions before calculating error scores to ensure that performance is reported in the same units as the original data (thousands of passengers per month)."
      ]
    },
    {
      "cell_type": "code",
      "metadata": {
        "colab": {
          "base_uri": "https://localhost:8080/"
        },
        "id": "YT2zS44lkLlj",
        "outputId": "2f48c9a3-bd87-4623-95dd-643c338d43f5"
      },
      "source": [
        "# make predictions\n",
        "trainPredict = lstm_model.predict(trainX,batch_size=batch_size)\n",
        "testPredict = lstm_model.predict(testX,batch_size=batch_size)\n",
        "# invert predictions\n",
        "trainPredict = scaler.inverse_transform(trainPredict)\n",
        "trainY = scaler.inverse_transform([trainY])\n",
        "testPredict = scaler.inverse_transform(testPredict)\n",
        "testY = scaler.inverse_transform([testY])\n",
        "# calculate root mean squared error\n",
        "trainScore = math.sqrt(mean_squared_error(trainY[0], trainPredict[:,0]))\n",
        "print('Train Score: %.4f RMSE' % (trainScore))\n",
        "testScore = math.sqrt(mean_squared_error(testY[0], testPredict[:,0]))\n",
        "print('Test Score: %.4f RMSE' % (testScore))"
      ],
      "execution_count": null,
      "outputs": [
        {
          "output_type": "stream",
          "name": "stdout",
          "text": [
            "Train Score: 25.2464 RMSE\n",
            "Test Score: 24.8509 RMSE\n"
          ]
        }
      ]
    },
    {
      "cell_type": "code",
      "metadata": {
        "colab": {
          "base_uri": "https://localhost:8080/",
          "height": 594
        },
        "id": "tqcWQSu5kYhW",
        "outputId": "7733106d-bb05-4233-b05e-9e96ebfcfa21"
      },
      "source": [
        "# shift train predictions for plotting\n",
        "trainPredictPlot = np.empty_like(df)\n",
        "trainPredictPlot[:, :] = np.nan\n",
        "trainPredictPlot[look_back:len(trainPredict)+look_back, :] = trainPredict\n",
        "# shift test predictions for plotting\n",
        "testPredictPlot = np.empty_like(df)\n",
        "testPredictPlot[:, :] = np.nan\n",
        "testPredictPlot[len(trainPredict)+(look_back*2)+1:len(df)-1, :] = testPredict\n",
        "# plot baseline and predictions\n",
        "pyplot.figure(figsize=(20,10))\n",
        "#pyplot.plot(scaler.inverse_transform(df))\n",
        "pyplot.plot(trainPredictPlot)\n",
        "pyplot.plot(testPredictPlot)\n",
        "pyplot.show()"
      ],
      "execution_count": null,
      "outputs": [
        {
          "output_type": "display_data",
          "data": {
            "image/png": "[encoded data removed]",
            "text/plain": [
              "<Figure size 1440x720 with 1 Axes>"
            ]
          },
          "metadata": {}
        }
      ]
    },
    {
      "cell_type": "code",
      "metadata": {
        "id": "EDHWhKNNRair",
        "colab": {
          "base_uri": "https://localhost:8080/",
          "height": 239
        },
        "outputId": "00bdf3c2-2135-4a83-c5d1-a029a704e1cd"
      },
      "source": [
        "# now to save the model as serialized object pickle\n",
        "Outfile = 'drive/My Drive/ML_files/5.0_BPM_LSTM_Model.h5'\n",
        "#Outfile = \"5.0_BPM_LSTM_Model.h5\"\n",
        "#lstm_model.save(Outfile)\n",
        "with open(Outfile, 'wb') as model:\n",
        "  pickle.dump(lstm_model,model)\n",
        "\n",
        "#Outfile = '5.0_BPM_LSTM_Model'\n",
        "#with open(Outfile, 'wb') as model:\n",
        " #   pickle.dump(lstm_model,model)\n",
        "\n"
      ],
      "execution_count": null,
      "outputs": [
        {
          "output_type": "error",
          "ename": "TypeError",
          "evalue": "ignored",
          "traceback": [
            "\u001b[0;31m---------------------------------------------------------------------------\u001b[0m",
            "\u001b[0;31mTypeError\u001b[0m                                 Traceback (most recent call last)",
            "\u001b[0;32m<ipython-input-73-925c30d1f688>\u001b[0m in \u001b[0;36m<module>\u001b[0;34m()\u001b[0m\n\u001b[1;32m      4\u001b[0m \u001b[0;31m#lstm_model.save(Outfile)\u001b[0m\u001b[0;34m\u001b[0m\u001b[0;34m\u001b[0m\u001b[0;34m\u001b[0m\u001b[0m\n\u001b[1;32m      5\u001b[0m \u001b[0;32mwith\u001b[0m \u001b[0mopen\u001b[0m\u001b[0;34m(\u001b[0m\u001b[0mOutfile\u001b[0m\u001b[0;34m,\u001b[0m \u001b[0;34m'wb'\u001b[0m\u001b[0;34m)\u001b[0m \u001b[0;32mas\u001b[0m \u001b[0mmodel\u001b[0m\u001b[0;34m:\u001b[0m\u001b[0;34m\u001b[0m\u001b[0;34m\u001b[0m\u001b[0m\n\u001b[0;32m----> 6\u001b[0;31m   \u001b[0mpickle\u001b[0m\u001b[0;34m.\u001b[0m\u001b[0mdump\u001b[0m\u001b[0;34m(\u001b[0m\u001b[0mlstm_model\u001b[0m\u001b[0;34m,\u001b[0m\u001b[0mmodel\u001b[0m\u001b[0;34m)\u001b[0m\u001b[0;34m\u001b[0m\u001b[0;34m\u001b[0m\u001b[0m\n\u001b[0m\u001b[1;32m      7\u001b[0m \u001b[0;34m\u001b[0m\u001b[0m\n\u001b[1;32m      8\u001b[0m \u001b[0;31m#Outfile = '5.0_BPM_LSTM_Model'\u001b[0m\u001b[0;34m\u001b[0m\u001b[0;34m\u001b[0m\u001b[0;34m\u001b[0m\u001b[0m\n",
            "\u001b[0;31mTypeError\u001b[0m: can't pickle weakref objects"
          ]
        }
      ]
    },
    {
      "cell_type": "code",
      "metadata": {
        "id": "hXKLgvKORais",
        "colab": {
          "base_uri": "https://localhost:8080/",
          "height": 352
        },
        "outputId": "7ec0df51-c249-4201-d6c6-bd3b838a074d"
      },
      "source": [
        "#Testing the saved model\n",
        "# identical to the previous one\n",
        "model = load_model(Outfile)"
      ],
      "execution_count": null,
      "outputs": [
        {
          "output_type": "error",
          "ename": "OSError",
          "evalue": "ignored",
          "traceback": [
            "\u001b[0;31m---------------------------------------------------------------------------\u001b[0m",
            "\u001b[0;31mOSError\u001b[0m                                   Traceback (most recent call last)",
            "\u001b[0;32m<ipython-input-71-d4533c4d492b>\u001b[0m in \u001b[0;36m<module>\u001b[0;34m()\u001b[0m\n\u001b[1;32m      1\u001b[0m \u001b[0;31m#Testing the saved model\u001b[0m\u001b[0;34m\u001b[0m\u001b[0;34m\u001b[0m\u001b[0;34m\u001b[0m\u001b[0m\n\u001b[1;32m      2\u001b[0m \u001b[0;31m# identical to the previous one\u001b[0m\u001b[0;34m\u001b[0m\u001b[0;34m\u001b[0m\u001b[0;34m\u001b[0m\u001b[0m\n\u001b[0;32m----> 3\u001b[0;31m \u001b[0mmodel\u001b[0m \u001b[0;34m=\u001b[0m \u001b[0mload_model\u001b[0m\u001b[0;34m(\u001b[0m\u001b[0mOutfile\u001b[0m\u001b[0;34m)\u001b[0m\u001b[0;34m\u001b[0m\u001b[0;34m\u001b[0m\u001b[0m\n\u001b[0m",
            "\u001b[0;32m/usr/local/lib/python3.7/dist-packages/keras/saving/save.py\u001b[0m in \u001b[0;36mload_model\u001b[0;34m(filepath, custom_objects, compile, options)\u001b[0m\n\u001b[1;32m    203\u001b[0m         \u001b[0mfilepath\u001b[0m \u001b[0;34m=\u001b[0m \u001b[0mpath_to_string\u001b[0m\u001b[0;34m(\u001b[0m\u001b[0mfilepath\u001b[0m\u001b[0;34m)\u001b[0m\u001b[0;34m\u001b[0m\u001b[0;34m\u001b[0m\u001b[0m\n\u001b[1;32m    204\u001b[0m         \u001b[0;32mif\u001b[0m \u001b[0misinstance\u001b[0m\u001b[0;34m(\u001b[0m\u001b[0mfilepath\u001b[0m\u001b[0;34m,\u001b[0m \u001b[0mstr\u001b[0m\u001b[0;34m)\u001b[0m\u001b[0;34m:\u001b[0m\u001b[0;34m\u001b[0m\u001b[0;34m\u001b[0m\u001b[0m\n\u001b[0;32m--> 205\u001b[0;31m           \u001b[0;32mreturn\u001b[0m \u001b[0msaved_model_load\u001b[0m\u001b[0;34m.\u001b[0m\u001b[0mload\u001b[0m\u001b[0;34m(\u001b[0m\u001b[0mfilepath\u001b[0m\u001b[0;34m,\u001b[0m \u001b[0mcompile\u001b[0m\u001b[0;34m,\u001b[0m \u001b[0moptions\u001b[0m\u001b[0;34m)\u001b[0m\u001b[0;34m\u001b[0m\u001b[0;34m\u001b[0m\u001b[0m\n\u001b[0m\u001b[1;32m    206\u001b[0m \u001b[0;34m\u001b[0m\u001b[0m\n\u001b[1;32m    207\u001b[0m   raise IOError(\n",
            "\u001b[0;32m/usr/local/lib/python3.7/dist-packages/keras/saving/saved_model/load.py\u001b[0m in \u001b[0;36mload\u001b[0;34m(path, compile, options)\u001b[0m\n\u001b[1;32m    106\u001b[0m   \u001b[0;31m# Look for metadata file or parse the SavedModel\u001b[0m\u001b[0;34m\u001b[0m\u001b[0;34m\u001b[0m\u001b[0;34m\u001b[0m\u001b[0m\n\u001b[1;32m    107\u001b[0m   \u001b[0mmetadata\u001b[0m \u001b[0;34m=\u001b[0m \u001b[0msaved_metadata_pb2\u001b[0m\u001b[0;34m.\u001b[0m\u001b[0mSavedMetadata\u001b[0m\u001b[0;34m(\u001b[0m\u001b[0;34m)\u001b[0m\u001b[0;34m\u001b[0m\u001b[0;34m\u001b[0m\u001b[0m\n\u001b[0;32m--> 108\u001b[0;31m   \u001b[0mmeta_graph_def\u001b[0m \u001b[0;34m=\u001b[0m \u001b[0mtf\u001b[0m\u001b[0;34m.\u001b[0m\u001b[0m__internal__\u001b[0m\u001b[0;34m.\u001b[0m\u001b[0msaved_model\u001b[0m\u001b[0;34m.\u001b[0m\u001b[0mparse_saved_model\u001b[0m\u001b[0;34m(\u001b[0m\u001b[0mpath\u001b[0m\u001b[0;34m)\u001b[0m\u001b[0;34m.\u001b[0m\u001b[0mmeta_graphs\u001b[0m\u001b[0;34m[\u001b[0m\u001b[0;36m0\u001b[0m\u001b[0;34m]\u001b[0m\u001b[0;34m\u001b[0m\u001b[0;34m\u001b[0m\u001b[0m\n\u001b[0m\u001b[1;32m    109\u001b[0m   \u001b[0mobject_graph_def\u001b[0m \u001b[0;34m=\u001b[0m \u001b[0mmeta_graph_def\u001b[0m\u001b[0;34m.\u001b[0m\u001b[0mobject_graph_def\u001b[0m\u001b[0;34m\u001b[0m\u001b[0;34m\u001b[0m\u001b[0m\n\u001b[1;32m    110\u001b[0m   \u001b[0mpath_to_metadata_pb\u001b[0m \u001b[0;34m=\u001b[0m \u001b[0mos\u001b[0m\u001b[0;34m.\u001b[0m\u001b[0mpath\u001b[0m\u001b[0;34m.\u001b[0m\u001b[0mjoin\u001b[0m\u001b[0;34m(\u001b[0m\u001b[0mpath\u001b[0m\u001b[0;34m,\u001b[0m \u001b[0mconstants\u001b[0m\u001b[0;34m.\u001b[0m\u001b[0mSAVED_METADATA_PATH\u001b[0m\u001b[0;34m)\u001b[0m\u001b[0;34m\u001b[0m\u001b[0;34m\u001b[0m\u001b[0m\n",
            "\u001b[0;32m/usr/local/lib/python3.7/dist-packages/tensorflow/python/saved_model/loader_impl.py\u001b[0m in \u001b[0;36mparse_saved_model\u001b[0;34m(export_dir)\u001b[0m\n\u001b[1;32m    119\u001b[0m         \u001b[0;34m\"SavedModel file does not exist at: %s%s{%s|%s}\"\u001b[0m \u001b[0;34m%\u001b[0m\u001b[0;34m\u001b[0m\u001b[0;34m\u001b[0m\u001b[0m\n\u001b[1;32m    120\u001b[0m         (export_dir, os.path.sep, constants.SAVED_MODEL_FILENAME_PBTXT,\n\u001b[0;32m--> 121\u001b[0;31m          constants.SAVED_MODEL_FILENAME_PB))\n\u001b[0m\u001b[1;32m    122\u001b[0m \u001b[0;34m\u001b[0m\u001b[0m\n\u001b[1;32m    123\u001b[0m \u001b[0;34m\u001b[0m\u001b[0m\n",
            "\u001b[0;31mOSError\u001b[0m: SavedModel file does not exist at: 5.0_BPM_LSTM_Model.h5/{saved_model.pbtxt|saved_model.pb}"
          ]
        }
      ]
    },
    {
      "cell_type": "code",
      "metadata": {
        "id": "WPt2F-t9Raiu"
      },
      "source": [
        "print(keras.__version__)"
      ],
      "execution_count": null,
      "outputs": []
    },
    {
      "cell_type": "code",
      "metadata": {
        "id": "BOtvqaVwRaiu"
      },
      "source": [
        ""
      ],
      "execution_count": null,
      "outputs": []
    },
    {
      "cell_type": "code",
      "metadata": {
        "id": "OvHCbBau9Pdw"
      },
      "source": [
        ""
      ],
      "execution_count": null,
      "outputs": []
    }
  ]
}